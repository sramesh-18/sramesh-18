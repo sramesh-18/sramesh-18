{
 "cells": [
  {
   "cell_type": "code",
   "execution_count": 1,
   "id": "10b41545-cead-42a7-8973-6db9435c3b81",
   "metadata": {},
   "outputs": [],
   "source": [
    "from sfseventools.training import FastmSampler, sample_from_transcripts, build_train_sets, shuffle_x_y_together\n",
    "import numpy as np\n",
    "import sys\n",
    "\n",
    "# To see whole NP array. USE WITH CAUTION\n",
    "# np.set_printoptions(threshold=sys.maxsize)"
   ]
  },
  {
   "cell_type": "code",
   "execution_count": 2,
   "id": "f0d3d376-a65c-48df-8646-b1f0b51d2a5c",
   "metadata": {},
   "outputs": [],
   "source": [
    "uid = \">\"\n",
    "sep =\",\"\n",
    "ender = \";\"\n",
    "fastm_samplers = []\n",
    "\n",
    "file_paths ={\n",
    "#ref_rna_path = {\n",
    "    #'hla_a'  :np.asarray([1,0,0,0,0,0,0,0,0]),\n",
    "    #'hla_b'  :np.asarray([0,1,0,0,0,0,0,0,0]),\n",
    "    #'hla_c'  :np.asarray([0,0,1,0,0,0,0,0,0]),\n",
    "    #'hla_dp' :np.asarray([0,0,0,1,0,0,0,0,0]),\n",
    "    #'hla_dq' :np.asarray([0,0,0,0,1,0,0,0,0]),\n",
    "    #'hla_dr' :np.asarray([0,0,0,0,0,1,0,0,0]),\n",
    "    #'hla_tap':np.asarray([0,0,0,0,0,0,1,0,0]),\n",
    "    #'hla_mica':np.asarray([0,0,0,0,0,0,0,1,0]),\n",
    "    #'hla_micb':np.asarray([0,0,0,0,0,0,0,0,1]),\n",
    "    #'hla_kir':np.asarray([0,0,0,0,0,0,0,0,1])\n",
    "    #*'hla_a':np.asarray([1,0,0,0,0]),\n",
    "    #*'hla_dp':np.asarray([0,1,0,0,0]),\n",
    "    #*'hla_dq':np.asarray([0,0,1,0,0]),\n",
    "    #*'hla_dr':([0,0,0,1,0]),\n",
    "    #'hla_dr_copy':np.asarray([0,0,0,0,1])\n",
    "    #*'non-hla': ([0,0,0,0,1])\n",
    "    #'neither': ([0,0,0,0,0,0])\n",
    "    #'sample': ([0,0,0,0,1])\n",
    "    'hla_a'  :1,\n",
    "    #'hla_b'  :1,\n",
    "    #'hla_c'  :2,\n",
    "    'hla_dp' :2,\n",
    "    'hla_dq' :3,\n",
    "    'hla_dr' :4,\n",
    "    #'hla_tap':6,\n",
    "    #'hla_mica':7,\n",
    "    #'hla_micb':8,\n",
    "    #'hla_kir':9\n",
    "    'non-hla': 0\n",
    "    #'sample':0\n",
    "    \n",
    "}\n",
    "output_paths= {\n",
    "    'hla_a'  :\"data/Sample/hla_a2.fastm\",\n",
    "    #'hla_b'  :\"data/Sample/hla_b2.fastm\",\n",
    "    #'hla_c'  :\"data/Sample/hla_c2.fastm\",\n",
    "    'hla_dp' :\"data/Sample/hla_dp2.fastm\",\n",
    "    'hla_dq' :\"data/Sample/hla_dq2.fastm\",\n",
    "    'hla_dr' :\"data/Sample/hla_dr2.fastm\",\n",
    "    #'hla_tap':\"data/Sample/hla_tap2.fastm\",\n",
    "    #'hla_mica':\"data/Sample/hla_mica2.fastm\",\n",
    "    #'hla_micb':\"data/Sample/hla_micb2.fastm\",\n",
    "   # 'sample'  :\"data/Original/sample.fastm\"\n",
    "    'non-hla' :\"data/Sample/refMrna.fastm\"\n",
    "}\n",
    "\n",
    "\n",
    "with open(\"data/Original/sample.fastm\") as myfile:\n",
    "    head = [next(myfile) for x in range(2)]\n",
    "#print(head)"
   ]
  },
  {
   "cell_type": "code",
   "execution_count": 12,
   "id": "770500d7-fc4a-41e6-89aa-06318175e888",
   "metadata": {},
   "outputs": [
    {
     "name": "stdout",
     "output_type": "stream",
     "text": [
      "6\n"
     ]
    }
   ],
   "source": [
    "training_params = {\n",
    "    'num_samples': 1000,\n",
    "    'batch_size': 100,\n",
    "    'nb_epochs' : 2000,\n",
    "    'learning_rate': 1e-4,\n",
    "    'n_prob_upper_limit':.06,\n",
    "    'mutation_prob_upper_limit':.02,\n",
    "    'delete_prob_upper_limit':.015,\n",
    "    'insert_prob_upper_limit':.015,\n",
    "    'min_read_length':75,\n",
    "    'b_randomize_location':True,\n",
    "    'b_randomize_direction':False\n",
    "}\n",
    "\n",
    "output_classes = {\n",
    "    'hla_a'  :1,\n",
    "    #'hla_b'  :1,\n",
    "    #'hla_c'  :2,\n",
    "    'hla_dp' :2,\n",
    "    'hla_dq' :3,\n",
    "    'hla_dr' :4,\n",
    "    #'hla_tap':6,\n",
    "    #'hla_mica':7,\n",
    "    #'hla_micb':8,\n",
    "    #'hla_kir':9\n",
    "    'non-hla': 0\n",
    "    #'sample':0\n",
    "}\n",
    "\n",
    "\n",
    "\n",
    "mp = {\n",
    "        'max_read_length':400,\n",
    "        'loss':'binary_crossentropy',\n",
    "        'optimizer':'rmsprop',\n",
    "        'metrics':['accuracy'],\n",
    "        'num_classes': len(output_classes.keys())\n",
    "    }\n",
    "    \n",
    "'''\n",
    "training_params = {\n",
    "    'num_samples': 1000,\n",
    "    'batch_size': 100,\n",
    "    'nb_epochs' : 2000,\n",
    "    'learning_rate': 1e-4,\n",
    "    'n_prob_upper_limit':.06,\n",
    "    'mutation_prob_upper_limit':.02,\n",
    "    'delete_prob_upper_limit':.015,\n",
    "    'insert_prob_upper_limit':.015,\n",
    "    'min_read_length':75,\n",
    "    'b_randomize_location':False,\n",
    "    'b_randomize_direction':False\n",
    "}\n",
    "'''\n",
    "\n",
    "output_number = len(output_classes)\n",
    "print(output_number)"
   ]
  },
  {
   "cell_type": "code",
   "execution_count": 4,
   "id": "092d8542-9507-4caf-81ed-d4e5e384616a",
   "metadata": {},
   "outputs": [],
   "source": [
    "#for key,value in output_paths.items():\n",
    "#    print(key,value)"
   ]
  },
  {
   "cell_type": "code",
   "execution_count": 5,
   "id": "c7288a5f-3b02-4caf-a773-312c2954cb2f",
   "metadata": {},
   "outputs": [
    {
     "name": "stdout",
     "output_type": "stream",
     "text": [
      "5\n",
      "hla_a 1 [0. 1. 0. 0. 0.]\n",
      "hla_dp 2 [0. 0. 1. 0. 0.]\n",
      "hla_dq 3 [0. 0. 0. 1. 0.]\n",
      "hla_dr 4 [0. 0. 0. 0. 1.]\n",
      "non-hla 0 [1. 0. 0. 0. 0.]\n"
     ]
    }
   ],
   "source": [
    "num_classes = len(output_classes.keys())\n",
    "print(num_classes)\n",
    "for train_class, idx in output_classes.items():\n",
    "    output_arr = np.zeros(num_classes)\n",
    "    output_arr[idx] = 1\n",
    "    train_sampler = FastmSampler(fastm_file_path=output_paths[train_class],\n",
    "                        n_prob_upper_limit=training_params['n_prob_upper_limit'],\n",
    "                        mutation_prob_upper_limit=training_params['mutation_prob_upper_limit'],\n",
    "                        delete_prob_upper_limit=training_params['delete_prob_upper_limit'],\n",
    "                        insert_prob_upper_limit=training_params['insert_prob_upper_limit'],\n",
    "                        min_read_length=training_params['min_read_length'],\n",
    "                        tensor_length=mp['max_read_length'],\n",
    "                        b_randomize_location=training_params['b_randomize_location'],\n",
    "                        b_randomize_direction=training_params['b_randomize_direction'],\n",
    "                        training_output=output_arr,\n",
    "                        uid=uid,\n",
    "                        sep=sep,\n",
    "                        ender = ender\n",
    "                       )\n",
    "    print(train_class,idx,output_arr)\n",
    "    fastm_samplers.append(train_sampler)"
   ]
  },
  {
   "cell_type": "code",
   "execution_count": 6,
   "id": "3add3bb8-e23a-4ed5-8cac-951e3a266ff1",
   "metadata": {},
   "outputs": [],
   "source": [
    "X_train,y_train,X_test,y_test = build_train_sets(data_samplers=fastm_samplers,\n",
    "                  sample_size = training_params['num_samples'])"
   ]
  },
  {
   "cell_type": "code",
   "execution_count": 7,
   "id": "8f888f95-68f9-4471-95da-7a85719156e7",
   "metadata": {},
   "outputs": [
    {
     "data": {
      "text/plain": [
       "array([[0, 0, 0, 0],\n",
       "       [0, 0, 0, 0],\n",
       "       [0, 0, 0, 0],\n",
       "       ...,\n",
       "       [0, 0, 0, 1],\n",
       "       [0, 0, 1, 0],\n",
       "       [1, 0, 0, 0]])"
      ]
     },
     "execution_count": 7,
     "metadata": {},
     "output_type": "execute_result"
    }
   ],
   "source": [
    "X_train[0]"
   ]
  },
  {
   "cell_type": "code",
   "execution_count": 8,
   "id": "bfb58f67-d9eb-45dc-9a42-9783b4e4ee89",
   "metadata": {},
   "outputs": [
    {
     "name": "stdout",
     "output_type": "stream",
     "text": [
      "[[0. 1. 0. 0. 0.]\n",
      " [0. 1. 0. 0. 0.]\n",
      " [0. 1. 0. 0. 0.]\n",
      " ...\n",
      " [1. 0. 0. 0. 0.]\n",
      " [1. 0. 0. 0. 0.]\n",
      " [1. 0. 0. 0. 0.]]\n"
     ]
    }
   ],
   "source": [
    "print(y_train)"
   ]
  },
  {
   "cell_type": "code",
   "execution_count": 9,
   "id": "0a94c65d-5cbf-4d4b-9d9b-bc4dde43f81c",
   "metadata": {},
   "outputs": [],
   "source": [
    "X_train, y_train = shuffle_x_y_together(X_train,y_train)"
   ]
  },
  {
   "cell_type": "code",
   "execution_count": null,
   "id": "3cf01e69-4324-4dd8-a073-18591fc0568b",
   "metadata": {},
   "outputs": [],
   "source": [
    "\n"
   ]
  }
 ],
 "metadata": {
  "kernelspec": {
   "display_name": "Python 3",
   "language": "python",
   "name": "python3"
  },
  "language_info": {
   "codemirror_mode": {
    "name": "ipython",
    "version": 3
   },
   "file_extension": ".py",
   "mimetype": "text/x-python",
   "name": "python",
   "nbconvert_exporter": "python",
   "pygments_lexer": "ipython3",
   "version": "3.8.8"
  }
 },
 "nbformat": 4,
 "nbformat_minor": 5
}
