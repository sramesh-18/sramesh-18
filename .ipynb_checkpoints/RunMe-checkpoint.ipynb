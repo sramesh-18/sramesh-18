{
 "cells": [
  {
   "cell_type": "code",
   "execution_count": 1,
   "id": "10b41545-cead-42a7-8973-6db9435c3b81",
   "metadata": {},
   "outputs": [],
   "source": [
    "from sfseventools.training import FastmSampler, sample_from_transcripts, build_train_sets, shuffle_x_y_together\n",
    "import numpy as np\n",
    "import sys\n",
    "\n",
    "# To see whole NP array. USE WITH CAUTION\n",
    "# np.set_printoptions(threshold=sys.maxsize)"
   ]
  },
  {
   "cell_type": "code",
   "execution_count": 2,
   "id": "f0d3d376-a65c-48df-8646-b1f0b51d2a5c",
   "metadata": {},
   "outputs": [],
   "source": [
    "uid = \">\"\n",
    "sep =\",\"\n",
    "ender = \"}\"\n",
    "fastm_samplers = []\n",
    "\n",
    "# FILL ME IN\n",
    "ref_rna_path = \"\"\n",
    "output_paths= {\n",
    "    'hla_a'  :\"data/hla_a.fastm\",\n",
    "    'hla_b'  :\"data/hla_b.fastm\",\n",
    "    'hla_c'  :\"data/hla_c.fastm\",\n",
    "    'hla_dp' :\"data/hla_dp.fastm\",\n",
    "    'hla_dq' :\"data/hla_dq.fastm\",\n",
    "    'hla_dr' :\"data/hla_dr.fastm\",\n",
    "    'hla_tap':\"data/hla_tap.fastm\",\n",
    "    'hla_mica':\"data/hla_mica.fastm\",\n",
    "    'hla_micb':\"data/hla_micb.fastm\",\n",
    "}"
   ]
  },
  {
   "cell_type": "code",
   "execution_count": 3,
   "id": "770500d7-fc4a-41e6-89aa-06318175e888",
   "metadata": {},
   "outputs": [],
   "source": [
    "training_params = {\n",
    "    'num_samples': 1000,\n",
    "    'batch_size': 100,\n",
    "    'nb_epochs' : 2000,\n",
    "    'learning_rate': 1e-4,\n",
    "    'n_prob_upper_limit':.06,\n",
    "    'mutation_prob_upper_limit':.02,\n",
    "    'delete_prob_upper_limit':.015,\n",
    "    'insert_prob_upper_limit':.015,\n",
    "    'min_read_length':75,\n",
    "    'b_randomize_location':True,\n",
    "    'b_randomize_direction':False\n",
    "}\n",
    "\n",
    "output_classes = {\n",
    "    'hla_a'  :0,\n",
    "    'hla_b'  :1,\n",
    "    'hla_c'  :2,\n",
    "    'hla_dp' :3,\n",
    "    'hla_dq' :4,\n",
    "    'hla_dr' :5,\n",
    "    'hla_tap':6,\n",
    "    'hla_mica':7,\n",
    "    'hla_micb':8,\n",
    "    #'hla_kir':9\n",
    "}\n",
    "\n",
    "\n",
    "\n",
    "mp = {\n",
    "        'max_read_length':400,\n",
    "        'loss':'binary_crossentropy',\n",
    "        'optimizer':'rmsprop',\n",
    "        'metrics':['accuracy'],\n",
    "        'num_classes': len(output_classes.keys())\n",
    "    }\n",
    "    \n",
    "training_params = {\n",
    "    'num_samples': 1000,\n",
    "    'batch_size': 100,\n",
    "    'nb_epochs' : 2000,\n",
    "    'learning_rate': 1e-4,\n",
    "    'n_prob_upper_limit':.06,\n",
    "    'mutation_prob_upper_limit':.02,\n",
    "    'delete_prob_upper_limit':.015,\n",
    "    'insert_prob_upper_limit':.015,\n",
    "    'min_read_length':75,\n",
    "    'b_randomize_location':False,\n",
    "    'b_randomize_direction':False\n",
    "}\n"
   ]
  },
  {
   "cell_type": "code",
   "execution_count": 33,
   "id": "430fe493-1ba2-4c71-bf3b-ddec7cfb0107",
   "metadata": {},
   "outputs": [
    {
     "ename": "KeyError",
     "evalue": "'max_read_len'",
     "output_type": "error",
     "traceback": [
      "\u001b[0;31m---------------------------------------------------------------------------\u001b[0m",
      "\u001b[0;31mKeyError\u001b[0m                                  Traceback (most recent call last)",
      "\u001b[0;32m<ipython-input-33-02805d31648e>\u001b[0m in \u001b[0;36m<module>\u001b[0;34m\u001b[0m\n\u001b[1;32m      5\u001b[0m                         \u001b[0minsert_prob_upper_limit\u001b[0m\u001b[0;34m=\u001b[0m\u001b[0mtraining_params\u001b[0m\u001b[0;34m[\u001b[0m\u001b[0;34m'insert_prob_upper_limit'\u001b[0m\u001b[0;34m]\u001b[0m\u001b[0;34m,\u001b[0m\u001b[0;34m\u001b[0m\u001b[0;34m\u001b[0m\u001b[0m\n\u001b[1;32m      6\u001b[0m                         \u001b[0mmin_read_length\u001b[0m\u001b[0;34m=\u001b[0m\u001b[0mtraining_params\u001b[0m\u001b[0;34m[\u001b[0m\u001b[0;34m'min_read_length'\u001b[0m\u001b[0;34m]\u001b[0m\u001b[0;34m,\u001b[0m\u001b[0;34m\u001b[0m\u001b[0;34m\u001b[0m\u001b[0m\n\u001b[0;32m----> 7\u001b[0;31m                         \u001b[0mtensor_length\u001b[0m\u001b[0;34m=\u001b[0m\u001b[0mmp\u001b[0m\u001b[0;34m[\u001b[0m\u001b[0;34m'max_read_len'\u001b[0m\u001b[0;34m]\u001b[0m\u001b[0;34m,\u001b[0m\u001b[0;34m\u001b[0m\u001b[0;34m\u001b[0m\u001b[0m\n\u001b[0m\u001b[1;32m      8\u001b[0m                         \u001b[0mb_randomize_location\u001b[0m\u001b[0;34m=\u001b[0m\u001b[0mtraining_params\u001b[0m\u001b[0;34m[\u001b[0m\u001b[0;34m'b_randomize_location'\u001b[0m\u001b[0;34m]\u001b[0m\u001b[0;34m,\u001b[0m\u001b[0;34m\u001b[0m\u001b[0;34m\u001b[0m\u001b[0m\n\u001b[1;32m      9\u001b[0m                         \u001b[0mb_randomize_direction\u001b[0m\u001b[0;34m=\u001b[0m\u001b[0mtraining_params\u001b[0m\u001b[0;34m[\u001b[0m\u001b[0;34m'b_randomize_direction'\u001b[0m\u001b[0;34m]\u001b[0m\u001b[0;34m,\u001b[0m\u001b[0;34m\u001b[0m\u001b[0;34m\u001b[0m\u001b[0m\n",
      "\u001b[0;31mKeyError\u001b[0m: 'max_read_len'"
     ]
    }
   ],
   "source": [
    "\n",
    "\n",
    "train_negative = FastmSampler(fastm_file_path=ref_rna_path,\n",
    "                        n_prob_upper_limit=training_params['n_prob_upper_limit'],\n",
    "                        mutation_prob_upper_limit=training_params['mutation_prob_upper_limit'],\n",
    "                        delete_prob_upper_limit=training_params['delete_prob_upper_limit'],\n",
    "                        insert_prob_upper_limit=training_params['insert_prob_upper_limit'],\n",
    "                        min_read_length=training_params['min_read_length'],\n",
    "                        tensor_length=mp['max_read_length'],\n",
    "                        b_randomize_location=training_params['b_randomize_location'],\n",
    "                        b_randomize_direction=training_params['b_randomize_direction'],\n",
    "                        training_output=np.zeros(len(output_classes.keys()))\n",
    "                       )\n",
    "fastm_samplers.append(train_negative)\n"
   ]
  },
  {
   "cell_type": "code",
   "execution_count": 4,
   "id": "4edcf0a7-8fe9-4652-83ab-452cc69be9c3",
   "metadata": {},
   "outputs": [
    {
     "name": "stdout",
     "output_type": "stream",
     "text": [
      "hla_a 0 [1. 0. 0. 0. 0. 0. 0. 0. 0.]\n",
      "hla_b 1 [0. 1. 0. 0. 0. 0. 0. 0. 0.]\n",
      "hla_c 2 [0. 0. 1. 0. 0. 0. 0. 0. 0.]\n",
      "hla_dp 3 [0. 0. 0. 1. 0. 0. 0. 0. 0.]\n",
      "hla_dq 4 [0. 0. 0. 0. 1. 0. 0. 0. 0.]\n",
      "hla_dr 5 [0. 0. 0. 0. 0. 1. 0. 0. 0.]\n",
      "hla_tap 6 [0. 0. 0. 0. 0. 0. 1. 0. 0.]\n",
      "hla_mica 7 [0. 0. 0. 0. 0. 0. 0. 1. 0.]\n",
      "hla_micb 8 [0. 0. 0. 0. 0. 0. 0. 0. 1.]\n"
     ]
    }
   ],
   "source": [
    "num_classes = len(output_classes.keys())\n",
    "for train_class, idx in output_classes.items():\n",
    "    output_arr = np.zeros(num_classes)\n",
    "    output_arr[idx] = 1\n",
    "    train_sampler = FastmSampler(fastm_file_path=output_paths[train_class],\n",
    "                        n_prob_upper_limit=training_params['n_prob_upper_limit'],\n",
    "                        mutation_prob_upper_limit=training_params['mutation_prob_upper_limit'],\n",
    "                        delete_prob_upper_limit=training_params['delete_prob_upper_limit'],\n",
    "                        insert_prob_upper_limit=training_params['insert_prob_upper_limit'],\n",
    "                        min_read_length=training_params['min_read_length'],\n",
    "                        tensor_length=mp['max_read_length'],\n",
    "                        b_randomize_location=training_params['b_randomize_location'],\n",
    "                        b_randomize_direction=training_params['b_randomize_direction'],\n",
    "                        training_output=output_arr,\n",
    "                        uid = uid,\n",
    "                        sep= sep,\n",
    "                        ender= ender\n",
    "                       )\n",
    "    print(train_class,idx,output_arr)\n",
    "    fastm_samplers.append(train_sampler)"
   ]
  },
  {
   "cell_type": "code",
   "execution_count": 5,
   "id": "3add3bb8-e23a-4ed5-8cac-951e3a266ff1",
   "metadata": {},
   "outputs": [],
   "source": [
    "X_train,y_train,X_test,y_test = build_train_sets(data_samplers=fastm_samplers,\n",
    "                  sample_size = training_params['num_samples'])"
   ]
  },
  {
   "cell_type": "code",
   "execution_count": 7,
   "id": "8f888f95-68f9-4471-95da-7a85719156e7",
   "metadata": {},
   "outputs": [],
   "source": [
    "X_train[0]"
   ]
  },
  {
   "cell_type": "code",
   "execution_count": 17,
   "id": "bfb58f67-d9eb-45dc-9a42-9783b4e4ee89",
   "metadata": {},
   "outputs": [
    {
     "data": {
      "text/plain": [
       "array([[1., 0., 0., 0., 0., 0., 0., 0., 0.],\n",
       "       [1., 0., 0., 0., 0., 0., 0., 0., 0.],\n",
       "       [1., 0., 0., 0., 0., 0., 0., 0., 0.],\n",
       "       [1., 0., 0., 0., 0., 0., 0., 0., 0.],\n",
       "       [1., 0., 0., 0., 0., 0., 0., 0., 0.],\n",
       "       [1., 0., 0., 0., 0., 0., 0., 0., 0.],\n",
       "       [1., 0., 0., 0., 0., 0., 0., 0., 0.],\n",
       "       [1., 0., 0., 0., 0., 0., 0., 0., 0.],\n",
       "       [1., 0., 0., 0., 0., 0., 0., 0., 0.],\n",
       "       [1., 0., 0., 0., 0., 0., 0., 0., 0.]])"
      ]
     },
     "execution_count": 17,
     "metadata": {},
     "output_type": "execute_result"
    }
   ],
   "source": [
    "y_train[0:10]"
   ]
  },
  {
   "cell_type": "code",
   "execution_count": 19,
   "id": "0a94c65d-5cbf-4d4b-9d9b-bc4dde43f81c",
   "metadata": {},
   "outputs": [],
   "source": [
    "X_train, y_train = shuffle_x_y_together(X_train,y_train)"
   ]
  },
  {
   "cell_type": "code",
   "execution_count": 20,
   "id": "1cda93de-d055-44c1-bc19-399191cf098c",
   "metadata": {},
   "outputs": [
    {
     "data": {
      "text/plain": [
       "array([[0., 0., 0., 1., 0., 0., 0., 0., 0.],\n",
       "       [0., 0., 0., 1., 0., 0., 0., 0., 0.],\n",
       "       [0., 0., 0., 0., 0., 0., 0., 0., 1.],\n",
       "       [0., 0., 0., 1., 0., 0., 0., 0., 0.],\n",
       "       [0., 0., 0., 0., 0., 0., 1., 0., 0.],\n",
       "       [0., 0., 0., 1., 0., 0., 0., 0., 0.],\n",
       "       [0., 0., 1., 0., 0., 0., 0., 0., 0.],\n",
       "       [0., 0., 1., 0., 0., 0., 0., 0., 0.],\n",
       "       [1., 0., 0., 0., 0., 0., 0., 0., 0.],\n",
       "       [0., 0., 0., 0., 0., 0., 1., 0., 0.]])"
      ]
     },
     "execution_count": 20,
     "metadata": {},
     "output_type": "execute_result"
    }
   ],
   "source": [
    "y_train[0:10]"
   ]
  },
  {
   "cell_type": "code",
   "execution_count": null,
   "id": "692efeac-8cbd-44cf-93c1-5913ac1915df",
   "metadata": {},
   "outputs": [],
   "source": []
  }
 ],
 "metadata": {
  "kernelspec": {
   "display_name": "Python 3",
   "language": "python",
   "name": "python3"
  },
  "language_info": {
   "codemirror_mode": {
    "name": "ipython",
    "version": 3
   },
   "file_extension": ".py",
   "mimetype": "text/x-python",
   "name": "python",
   "nbconvert_exporter": "python",
   "pygments_lexer": "ipython3",
   "version": "3.9.5"
  }
 },
 "nbformat": 4,
 "nbformat_minor": 5
}
