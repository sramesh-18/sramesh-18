{
 "cells": [
  {
   "cell_type": "code",
   "execution_count": 1,
   "id": "ee5718cf-3963-4830-a2a9-cf5eac2e8e82",
   "metadata": {},
   "outputs": [],
   "source": [
    "a = \"Hello\""
   ]
  },
  {
   "cell_type": "code",
   "execution_count": 2,
   "id": "6a19fcd4-3bdc-4a90-b1f2-715125eabc3f",
   "metadata": {},
   "outputs": [],
   "source": [
    "b = \"This is exciting\""
   ]
  },
  {
   "cell_type": "code",
   "execution_count": null,
   "id": "1ce6c34c-af0d-41a5-855e-b0f90c26603e",
   "metadata": {},
   "outputs": [],
   "source": []
  }
 ],
 "metadata": {
  "kernelspec": {
   "display_name": "Python 3",
   "language": "python",
   "name": "python3"
  },
  "language_info": {
   "codemirror_mode": {
    "name": "ipython",
    "version": 3
   },
   "file_extension": ".py",
   "mimetype": "text/x-python",
   "name": "python",
   "nbconvert_exporter": "python",
   "pygments_lexer": "ipython3",
   "version": "3.9.5"
  }
 },
 "nbformat": 4,
 "nbformat_minor": 5
}
