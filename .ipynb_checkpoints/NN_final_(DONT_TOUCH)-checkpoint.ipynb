{
 "cells": [
  {
   "cell_type": "code",
   "execution_count": 40,
   "metadata": {},
   "outputs": [
    {
     "name": "stdout",
     "output_type": "stream",
     "text": [
      "The tensorboard extension is already loaded. To reload it, use:\n",
      "  %reload_ext tensorboard\n",
      "10\n"
     ]
    }
   ],
   "source": [
    "from random import randint, getrandbits\n",
    "import itertools\n",
    "import datetime\n",
    "#import tensorflow.experimental.numpy as tnp\n",
    "import timeit\n",
    "import matplotlib.pyplot as plt\n",
    "import numpy as np\n",
    "import pandas as pd\n",
    "import sklearn\n",
    "from RunMe import *\n",
    "import tensorflow as tf\n",
    "from tensorflow.keras import layers, Sequential\n",
    "from tensorflow.keras.layers import Dense, Dropout, LSTM, GRU, Bidirectional, Activation, MaxPool1D, Conv1D\n",
    "from sklearn.model_selection import train_test_split\n",
    "from sklearn.preprocessing import LabelEncoder\n",
    "from sklearn.model_selection import GridSearchCV\n",
    "from sklearn.metrics import confusion_matrix\n",
    "from sklearn.metrics import classification_report\n",
    "\n",
    "%load_ext tensorboard\n",
    "print(output_number)"
   ]
  },
  {
   "cell_type": "markdown",
   "metadata": {},
   "source": [
    "## Input Parameters"
   ]
  },
  {
   "cell_type": "code",
   "execution_count": 30,
   "metadata": {},
   "outputs": [
    {
     "name": "stdout",
     "output_type": "stream",
     "text": [
      "10\n"
     ]
    }
   ],
   "source": [
    "file_paths ={\n",
    "    'hla_a'  :0,\n",
    "    #'hla_b'  :1,\n",
    "    #'hla_c'  :2,\n",
    "    'hla_dp' :3,\n",
    "    'hla_dq' :4,\n",
    "    'hla_dr' :5,\n",
    "    #'hla_tap':6,\n",
    "    #'hla_mica':7,\n",
    "    #'hla_micb':8,\n",
    "    'non-hla': 9\n",
    "}\n",
    "output_paths= {\n",
    "    'hla_a'  :\"/home/jovyan/data/Original/hla_a.fastm\",\n",
    "    #'hla_b'  :\"/home/jovyan/data/Original/hla_b.fastm\",\n",
    "    #'hla_c'  :\"/home/jovyan/data/Original/hla_c.fastm\",\n",
    "    'hla_dp' :\"/home/jovyan/data/Original/hla_dp.fastm\",\n",
    "    'hla_dq' :\"/home/jovyan/data/Original/hla_dq.fastm\",\n",
    "    'hla_dr' :\"/home/jovyan/data/Original/hla_dr.fastm\",\n",
    "    #'hla_tap':\"/home/jovyan/data/Original/hla_tap.fastm\",\n",
    "    #'hla_mica':\"/home/jovyan/data/Original/hla_mica.fastm\",\n",
    "    #'hla_micb':\"/home/jovyan/data/Original/hla_micb.fastm\",\n",
    "    #'sample'  :\"data/Original/sample.fastm\"\n",
    "    'non-hla' :\"/home/jovyan/data/Sample/refMrna.fastm\"\n",
    "}\n",
    "\n",
    "training_params = {\n",
    "    'num_samples': 1000,\n",
    "    'batch_size': 100,\n",
    "    'nb_epochs' : 2000,\n",
    "    'learning_rate': 1e-4,\n",
    "    'n_prob_upper_limit':.06,\n",
    "    'mutation_prob_upper_limit':.02,\n",
    "    'delete_prob_upper_limit':.015,\n",
    "    'insert_prob_upper_limit':.015,\n",
    "    'min_read_length':75,\n",
    "    'b_randomize_location':True,\n",
    "    'b_randomize_direction':False\n",
    "}\n",
    "\n",
    "output_classes = {\n",
    "    'hla_a'  :0,\n",
    "    #'hla_b'  :1,\n",
    "    #'hla_c'  :2,\n",
    "    'hla_dp' :3,\n",
    "    'hla_dq' :4,\n",
    "    'hla_dr' :5,\n",
    "    #'hla_tap':6,\n",
    "    #'hla_mica':7,\n",
    "    #'hla_micb':8,\n",
    "    'non-hla': 9\n",
    "}\n",
    "\n",
    "\n",
    "mp = {\n",
    "        'max_read_length':150,\n",
    "        'loss':'binary_crossentropy',\n",
    "        'optimizer':'rmsprop',\n",
    "        'metrics':['accuracy'],\n",
    "        'num_classes': len(output_classes.keys())\n",
    "    }\n",
    "\n",
    "\n",
    "print(output_number) \n",
    "#print(X_test)"
   ]
  },
  {
   "cell_type": "markdown",
   "metadata": {},
   "source": [
    "## Data Processing"
   ]
  },
  {
   "cell_type": "code",
   "execution_count": 31,
   "metadata": {},
   "outputs": [
    {
     "name": "stdout",
     "output_type": "stream",
     "text": [
      "(12000, 150, 4)\n",
      "int64\n",
      "int64\n",
      "int64\n",
      "int64\n"
     ]
    }
   ],
   "source": [
    "y_train_correct = []\n",
    "y_test_correct = []\n",
    "y_data_correct = []\n",
    " \n",
    "\n",
    "#for row in y_data: \n",
    "#    i = 0\n",
    "#    for index in row:\n",
    "#        if index == 1:\n",
    "#            y_data_correct.append(i)\n",
    "#        else:\n",
    "#            i = i+1\n",
    "#y_data_correct = np.array(y_data_correct)\n",
    "print(x_data.shape)\n",
    "\n",
    "X_train, X_test, y_train, y_test = train_test_split(x_data, y_data, test_size=0.3)\n",
    "\n",
    "print(X_train.dtype)\n",
    "print(y_train.dtype)\n",
    "print(X_test.dtype)\n",
    "print(y_test.dtype)"
   ]
  },
  {
   "cell_type": "markdown",
   "metadata": {},
   "source": [
    "## Working NN"
   ]
  },
  {
   "cell_type": "code",
   "execution_count": 20,
   "metadata": {
    "tags": []
   },
   "outputs": [
    {
     "name": "stdout",
     "output_type": "stream",
     "text": [
      "Model: \"sequential_7\"\n",
      "_________________________________________________________________\n",
      "Layer (type)                 Output Shape              Param #   \n",
      "=================================================================\n",
      "conv1d_7 (Conv1D)            (None, 44, 320)           25920     \n",
      "_________________________________________________________________\n",
      "max_pooling1d_7 (MaxPooling1 (None, 14, 320)           0         \n",
      "_________________________________________________________________\n",
      "dropout_21 (Dropout)         (None, 14, 320)           0         \n",
      "_________________________________________________________________\n",
      "bidirectional_7 (Bidirection (None, 64)                90368     \n",
      "_________________________________________________________________\n",
      "dropout_22 (Dropout)         (None, 64)                0         \n",
      "_________________________________________________________________\n",
      "dense_14 (Dense)             (None, 4)                 260       \n",
      "_________________________________________________________________\n",
      "dropout_23 (Dropout)         (None, 4)                 0         \n",
      "_________________________________________________________________\n",
      "dense_15 (Dense)             (None, 11)                55        \n",
      "=================================================================\n",
      "Total params: 116,603\n",
      "Trainable params: 116,603\n",
      "Non-trainable params: 0\n",
      "_________________________________________________________________\n",
      "Epoch 1/50\n",
      "1250/1250 [==============================] - 24s 19ms/step - loss: 2.3231 - accuracy: 0.1307 - val_loss: 2.1667 - val_accuracy: 0.2360\n",
      "Epoch 2/50\n",
      "1250/1250 [==============================] - 23s 19ms/step - loss: 2.0499 - accuracy: 0.1922 - val_loss: 1.9547 - val_accuracy: 0.3510\n",
      "Epoch 3/50\n",
      "1250/1250 [==============================] - 24s 19ms/step - loss: 1.9016 - accuracy: 0.2109 - val_loss: 1.7821 - val_accuracy: 0.0020\n",
      "Epoch 4/50\n",
      "1250/1250 [==============================] - 24s 19ms/step - loss: 1.8211 - accuracy: 0.2179 - val_loss: 1.7524 - val_accuracy: 0.0050\n",
      "Epoch 5/50\n",
      "1250/1250 [==============================] - 26s 21ms/step - loss: 1.7671 - accuracy: 0.2508 - val_loss: 1.6192 - val_accuracy: 0.4830\n",
      "Epoch 6/50\n",
      "1250/1250 [==============================] - 52s 42ms/step - loss: 1.7308 - accuracy: 0.2522 - val_loss: 1.5711 - val_accuracy: 0.0010\n",
      "Epoch 7/50\n",
      "1250/1250 [==============================] - 51s 41ms/step - loss: 1.7198 - accuracy: 0.2604 - val_loss: 1.5368 - val_accuracy: 0.4685\n",
      "Epoch 8/50\n",
      "1250/1250 [==============================] - 51s 41ms/step - loss: 1.7088 - accuracy: 0.2627 - val_loss: 1.5267 - val_accuracy: 0.0000e+00\n",
      "Epoch 9/50\n",
      "1250/1250 [==============================] - 50s 40ms/step - loss: 1.6827 - accuracy: 0.2690 - val_loss: 1.5015 - val_accuracy: 0.4975\n",
      "Epoch 10/50\n",
      "1250/1250 [==============================] - 51s 40ms/step - loss: 1.6601 - accuracy: 0.2881 - val_loss: 1.4763 - val_accuracy: 0.4280\n",
      "Epoch 11/50\n",
      "1250/1250 [==============================] - 51s 41ms/step - loss: 1.6501 - accuracy: 0.2925 - val_loss: 1.4889 - val_accuracy: 0.0000e+00\n",
      "Epoch 12/50\n",
      "1250/1250 [==============================] - 51s 41ms/step - loss: 1.6405 - accuracy: 0.2964 - val_loss: 1.4375 - val_accuracy: 0.4735\n",
      "Epoch 13/50\n",
      "1250/1250 [==============================] - 52s 41ms/step - loss: 1.6101 - accuracy: 0.3137 - val_loss: 1.5659 - val_accuracy: 0.4820\n",
      "Epoch 14/50\n",
      "1250/1250 [==============================] - 53s 43ms/step - loss: 1.6307 - accuracy: 0.3058 - val_loss: 1.5042 - val_accuracy: 0.4895\n",
      "Epoch 15/50\n",
      "1250/1250 [==============================] - 50s 40ms/step - loss: 1.6059 - accuracy: 0.3099 - val_loss: 1.7578 - val_accuracy: 0.4605\n",
      "Epoch 16/50\n",
      "1250/1250 [==============================] - 50s 40ms/step - loss: 1.5917 - accuracy: 0.3116 - val_loss: 1.3681 - val_accuracy: 0.4935\n",
      "Epoch 17/50\n",
      "1250/1250 [==============================] - 51s 41ms/step - loss: 1.5758 - accuracy: 0.3222 - val_loss: 1.3520 - val_accuracy: 0.3790\n",
      "Epoch 18/50\n",
      "1250/1250 [==============================] - 50s 40ms/step - loss: 1.5801 - accuracy: 0.3291 - val_loss: 1.4261 - val_accuracy: 0.4790\n",
      "Epoch 19/50\n",
      "1250/1250 [==============================] - 51s 41ms/step - loss: 1.5565 - accuracy: 0.3439 - val_loss: 1.4880 - val_accuracy: 0.3630\n",
      "Epoch 20/50\n",
      "1250/1250 [==============================] - 51s 41ms/step - loss: 1.5339 - accuracy: 0.3544 - val_loss: 1.6583 - val_accuracy: 0.0025\n",
      "Epoch 21/50\n",
      "1250/1250 [==============================] - 51s 40ms/step - loss: 1.5092 - accuracy: 0.3608 - val_loss: 1.9584 - val_accuracy: 0.0020\n",
      "Epoch 22/50\n",
      "   1/1250 [..............................] - ETA: 0s - loss: 1.3490 - accuracy: 0.0000e+00WARNING:tensorflow:Method (on_train_batch_end) is slow compared to the batch update (0.126196). Check your callbacks.\n",
      "1250/1250 [==============================] - 50s 40ms/step - loss: 1.4767 - accuracy: 0.3760 - val_loss: 2.0093 - val_accuracy: 0.0085\n",
      "Epoch 23/50\n",
      "1250/1250 [==============================] - 51s 41ms/step - loss: 1.4695 - accuracy: 0.3754 - val_loss: 2.2350 - val_accuracy: 0.0170\n",
      "Epoch 24/50\n",
      "1250/1250 [==============================] - 50s 40ms/step - loss: 1.4542 - accuracy: 0.3816 - val_loss: 3.0119 - val_accuracy: 5.0000e-04\n",
      "Epoch 25/50\n",
      "1250/1250 [==============================] - 51s 41ms/step - loss: 1.4426 - accuracy: 0.3849 - val_loss: 2.8694 - val_accuracy: 0.0315\n",
      "Epoch 26/50\n",
      "1250/1250 [==============================] - 51s 41ms/step - loss: 1.4499 - accuracy: 0.3751 - val_loss: 2.7406 - val_accuracy: 0.0330\n",
      "Epoch 27/50\n",
      "1250/1250 [==============================] - 51s 41ms/step - loss: 1.4345 - accuracy: 0.3820 - val_loss: 2.8719 - val_accuracy: 0.3020\n",
      "Epoch 28/50\n",
      "1250/1250 [==============================] - 50s 40ms/step - loss: 1.4408 - accuracy: 0.3699 - val_loss: 2.9886 - val_accuracy: 0.0470\n",
      "Epoch 29/50\n",
      "1250/1250 [==============================] - 51s 41ms/step - loss: 1.4430 - accuracy: 0.3673 - val_loss: 3.0543 - val_accuracy: 0.0495\n",
      "Epoch 30/50\n",
      "1250/1250 [==============================] - 51s 41ms/step - loss: 1.4166 - accuracy: 0.3807 - val_loss: 3.1864 - val_accuracy: 0.2110\n",
      "Epoch 31/50\n",
      "1250/1250 [==============================] - 51s 41ms/step - loss: 1.4330 - accuracy: 0.3794 - val_loss: 3.1450 - val_accuracy: 0.0670\n",
      "Epoch 32/50\n",
      "1250/1250 [==============================] - 51s 41ms/step - loss: 1.4059 - accuracy: 0.3800 - val_loss: 3.0569 - val_accuracy: 0.0030\n",
      "Epoch 33/50\n",
      "1250/1250 [==============================] - 51s 41ms/step - loss: 1.4184 - accuracy: 0.3829 - val_loss: 3.5032 - val_accuracy: 0.2235\n",
      "Epoch 34/50\n",
      "1250/1250 [==============================] - 50s 40ms/step - loss: 1.4121 - accuracy: 0.3850 - val_loss: 3.1306 - val_accuracy: 0.0050\n",
      "Epoch 35/50\n",
      "1250/1250 [==============================] - 51s 41ms/step - loss: 1.4092 - accuracy: 0.3869 - val_loss: 3.4571 - val_accuracy: 0.4705\n",
      "Epoch 36/50\n",
      "1250/1250 [==============================] - 51s 41ms/step - loss: 1.4023 - accuracy: 0.3909 - val_loss: 3.5260 - val_accuracy: 0.0475\n",
      "Epoch 37/50\n",
      "1250/1250 [==============================] - 51s 41ms/step - loss: 1.3835 - accuracy: 0.3898 - val_loss: 3.5959 - val_accuracy: 0.0000e+00\n",
      "Epoch 38/50\n",
      "1250/1250 [==============================] - 51s 41ms/step - loss: 1.3989 - accuracy: 0.3856 - val_loss: 3.3794 - val_accuracy: 0.4235\n",
      "Epoch 39/50\n",
      "1250/1250 [==============================] - 51s 40ms/step - loss: 1.3936 - accuracy: 0.3937 - val_loss: 3.4600 - val_accuracy: 0.0565\n",
      "Epoch 40/50\n",
      "1250/1250 [==============================] - 50s 40ms/step - loss: 1.4013 - accuracy: 0.3827 - val_loss: 3.7109 - val_accuracy: 0.3265\n",
      "Epoch 41/50\n",
      "1250/1250 [==============================] - 50s 40ms/step - loss: 1.3938 - accuracy: 0.3910 - val_loss: 3.4105 - val_accuracy: 0.0000e+00\n",
      "Epoch 42/50\n",
      "1250/1250 [==============================] - 50s 40ms/step - loss: 1.4067 - accuracy: 0.3775 - val_loss: 3.5589 - val_accuracy: 0.0010\n",
      "Epoch 43/50\n",
      "   1/1250 [..............................] - ETA: 0s - loss: 0.9718 - accuracy: 0.5000WARNING:tensorflow:Method (on_train_batch_end) is slow compared to the batch update (0.126826). Check your callbacks.\n",
      "1250/1250 [==============================] - 51s 41ms/step - loss: 1.4076 - accuracy: 0.3809 - val_loss: 3.3360 - val_accuracy: 0.4745\n",
      "Epoch 44/50\n",
      "1250/1250 [==============================] - 50s 40ms/step - loss: 1.4015 - accuracy: 0.3796 - val_loss: 3.9473 - val_accuracy: 0.0105\n",
      "Epoch 45/50\n",
      "1250/1250 [==============================] - 50s 40ms/step - loss: 1.3842 - accuracy: 0.3931 - val_loss: 3.4344 - val_accuracy: 0.0900\n",
      "Epoch 46/50\n",
      "1250/1250 [==============================] - 50s 40ms/step - loss: 1.3922 - accuracy: 0.3936 - val_loss: 3.5134 - val_accuracy: 5.0000e-04\n",
      "Epoch 47/50\n",
      "1250/1250 [==============================] - 50s 40ms/step - loss: 1.3737 - accuracy: 0.3930 - val_loss: 3.7944 - val_accuracy: 0.0000e+00\n",
      "Epoch 48/50\n",
      "1250/1250 [==============================] - 50s 40ms/step - loss: 1.3955 - accuracy: 0.3859 - val_loss: 3.6043 - val_accuracy: 0.4615\n",
      "Epoch 49/50\n",
      "1250/1250 [==============================] - 50s 40ms/step - loss: 1.3950 - accuracy: 0.3883 - val_loss: 3.6726 - val_accuracy: 0.4630\n",
      "Epoch 50/50\n",
      "1250/1250 [==============================] - 51s 41ms/step - loss: 1.3921 - accuracy: 0.3930 - val_loss: 3.6856 - val_accuracy: 0.0000e+00\n",
      "63/63 [==============================] - 1s 21ms/step - loss: 3.6856 - accuracy: 0.0000e+00\n",
      "Test Accuracy: 0.000\n"
     ]
    }
   ],
   "source": [
    "n_features = X_train.shape[1]\n",
    "\n",
    "model = tf.keras.Sequential()#[tf.keras.layers.Flatten(input_shape=(n_features, 4))]) \n",
    "\n",
    "model.add(tf.keras.layers.Conv1D(filters = 320, kernel_size = 20, \n",
    "                                strides=3, padding='valid', activation='relu', input_shape=(n_features,4)))\n",
    "\n",
    "model.add(layers.MaxPool1D(pool_size=3, strides=None))\n",
    "\n",
    "model.add(Dropout(0.5))\n",
    "\n",
    "model.add(tf.keras.layers.Bidirectional(tf.keras.layers.LSTM(32), merge_mode = 'concat'))# merge_mode='concat', weights=None, backward_layer=None))\n",
    "\n",
    "model.add(Dropout(0.5))\n",
    "\n",
    "model.add(Dense(4, activation='softmax', kernel_initializer='he_normal'))\n",
    "\n",
    "model.add(Dropout(0.5))\n",
    "\n",
    "#model.add(Dense(1, activation='softmax', kernel_initializer='he_normal'))\n",
    "model.add(Dense(5, activation='softmax', kernel_initializer='he_normal'))\n",
    "\n",
    "optimizer = tf.keras.optimizers.Adam(learning_rate = 0.001)\n",
    "\n",
    "#model.compile(optimizer=optimizer, loss='categorical_crossentropy', metrics=['accuracy'])\n",
    "model.compile(optimizer=optimizer, loss='SparseCategoricalCrossentropy', metrics=['accuracy'])\n",
    "#model.compile(optimizer=optimizer, loss='BinaryCrossentropy', metrics=['accuracy'])\n",
    "\n",
    "model.summary()\n",
    "\n",
    "model.fit(X_train, y_train, validation_data=(X_test, y_test), batch_size=8, epochs=50, verbose = 1, shuffle = True)\n",
    "\n",
    "loss, acc = model.evaluate(X_test, y_test, verbose=1)\n",
    "print('Test Accuracy: %.3f' % acc)"
   ]
  },
  {
   "cell_type": "code",
   "execution_count": null,
   "metadata": {},
   "outputs": [],
   "source": [
    "outputs = []\n",
    "for layer in model.layers:\n",
    "    keras_function = tf.keras.backend.function([model.input], [layer.output])\n",
    "    outputs.append(keras_function([X_train, 1]))\n",
    "print(outputs)\n",
    "\n",
    "#tf.argmax(input=n_features)"
   ]
  },
  {
   "cell_type": "code",
   "execution_count": 26,
   "metadata": {},
   "outputs": [
    {
     "name": "stdout",
     "output_type": "stream",
     "text": [
      "Confusion_matrix:  tf.Tensor(\n",
      "[[597  12   0   0   0   0   0   0   0   0]\n",
      " [112 464   0   0   0   0   0   0   0   0]\n",
      " [304   0   0   0   0   0   0   0   1   0]\n",
      " [ 30 271   0   0   0   0   0   0   0   0]\n",
      " [  0 161   0   0   0   0 122  22   0   0]\n",
      " [  7 302   0   0   0   0   0   0   0   0]\n",
      " [  0   0   0   0   0   0 311   0   0   0]\n",
      " [  0   0   0   0   0   0 301   0   0   0]\n",
      " [  6   0   0   0   0   0   0   0 264   0]\n",
      " [  6 307   0   0   0   0   0   0   0   0]], shape=(10, 10), dtype=int32)\n"
     ]
    },
    {
     "ename": "ValueError",
     "evalue": "Found input variables with inconsistent numbers of samples: [0, 3600]",
     "output_type": "error",
     "traceback": [
      "\u001b[0;31m---------------------------------------------------------------------------\u001b[0m",
      "\u001b[0;31mValueError\u001b[0m                                Traceback (most recent call last)",
      "\u001b[0;32m<ipython-input-26-d0bb834e34d2>\u001b[0m in \u001b[0;36m<module>\u001b[0;34m\u001b[0m\n\u001b[1;32m     16\u001b[0m \u001b[0;31m#print(confusion)\u001b[0m\u001b[0;34m\u001b[0m\u001b[0;34m\u001b[0m\u001b[0;34m\u001b[0m\u001b[0m\n\u001b[1;32m     17\u001b[0m \u001b[0;34m\u001b[0m\u001b[0m\n\u001b[0;32m---> 18\u001b[0;31m \u001b[0mclassification_report\u001b[0m\u001b[0;34m(\u001b[0m\u001b[0my_test_correct\u001b[0m\u001b[0;34m,\u001b[0m \u001b[0my_pred_classes\u001b[0m\u001b[0;34m)\u001b[0m\u001b[0;34m\u001b[0m\u001b[0;34m\u001b[0m\u001b[0m\n\u001b[0m\u001b[1;32m     19\u001b[0m \u001b[0mprint\u001b[0m\u001b[0;34m(\u001b[0m\u001b[0;34m'\\nClassification Report\\n'\u001b[0m\u001b[0;34m)\u001b[0m\u001b[0;34m\u001b[0m\u001b[0;34m\u001b[0m\u001b[0m\n\u001b[1;32m     20\u001b[0m \u001b[0mprint\u001b[0m\u001b[0;34m(\u001b[0m\u001b[0mclassification_report\u001b[0m\u001b[0;34m(\u001b[0m\u001b[0my_test\u001b[0m\u001b[0;34m,\u001b[0m \u001b[0my_pred_classes\u001b[0m\u001b[0;34m,\u001b[0m \u001b[0mtarget_names\u001b[0m\u001b[0;34m=\u001b[0m\u001b[0;34m[\u001b[0m\u001b[0;34m'non-hla'\u001b[0m\u001b[0;34m,\u001b[0m \u001b[0;34m'hla_a'\u001b[0m\u001b[0;34m,\u001b[0m \u001b[0;34m'hla_dp'\u001b[0m\u001b[0;34m,\u001b[0m \u001b[0;34m'hla_dq'\u001b[0m\u001b[0;34m,\u001b[0m \u001b[0;34m'hla_dr'\u001b[0m\u001b[0;34m]\u001b[0m\u001b[0;34m)\u001b[0m\u001b[0;34m)\u001b[0m\u001b[0;34m\u001b[0m\u001b[0;34m\u001b[0m\u001b[0m\n",
      "\u001b[0;32m/opt/conda/lib/python3.8/site-packages/sklearn/utils/validation.py\u001b[0m in \u001b[0;36minner_f\u001b[0;34m(*args, **kwargs)\u001b[0m\n\u001b[1;32m     61\u001b[0m             \u001b[0mextra_args\u001b[0m \u001b[0;34m=\u001b[0m \u001b[0mlen\u001b[0m\u001b[0;34m(\u001b[0m\u001b[0margs\u001b[0m\u001b[0;34m)\u001b[0m \u001b[0;34m-\u001b[0m \u001b[0mlen\u001b[0m\u001b[0;34m(\u001b[0m\u001b[0mall_args\u001b[0m\u001b[0;34m)\u001b[0m\u001b[0;34m\u001b[0m\u001b[0;34m\u001b[0m\u001b[0m\n\u001b[1;32m     62\u001b[0m             \u001b[0;32mif\u001b[0m \u001b[0mextra_args\u001b[0m \u001b[0;34m<=\u001b[0m \u001b[0;36m0\u001b[0m\u001b[0;34m:\u001b[0m\u001b[0;34m\u001b[0m\u001b[0;34m\u001b[0m\u001b[0m\n\u001b[0;32m---> 63\u001b[0;31m                 \u001b[0;32mreturn\u001b[0m \u001b[0mf\u001b[0m\u001b[0;34m(\u001b[0m\u001b[0;34m*\u001b[0m\u001b[0margs\u001b[0m\u001b[0;34m,\u001b[0m \u001b[0;34m**\u001b[0m\u001b[0mkwargs\u001b[0m\u001b[0;34m)\u001b[0m\u001b[0;34m\u001b[0m\u001b[0;34m\u001b[0m\u001b[0m\n\u001b[0m\u001b[1;32m     64\u001b[0m \u001b[0;34m\u001b[0m\u001b[0m\n\u001b[1;32m     65\u001b[0m             \u001b[0;31m# extra_args > 0\u001b[0m\u001b[0;34m\u001b[0m\u001b[0;34m\u001b[0m\u001b[0;34m\u001b[0m\u001b[0m\n",
      "\u001b[0;32m/opt/conda/lib/python3.8/site-packages/sklearn/metrics/_classification.py\u001b[0m in \u001b[0;36mclassification_report\u001b[0;34m(y_true, y_pred, labels, target_names, sample_weight, digits, output_dict, zero_division)\u001b[0m\n\u001b[1;32m   1968\u001b[0m     \"\"\"\n\u001b[1;32m   1969\u001b[0m \u001b[0;34m\u001b[0m\u001b[0m\n\u001b[0;32m-> 1970\u001b[0;31m     \u001b[0my_type\u001b[0m\u001b[0;34m,\u001b[0m \u001b[0my_true\u001b[0m\u001b[0;34m,\u001b[0m \u001b[0my_pred\u001b[0m \u001b[0;34m=\u001b[0m \u001b[0m_check_targets\u001b[0m\u001b[0;34m(\u001b[0m\u001b[0my_true\u001b[0m\u001b[0;34m,\u001b[0m \u001b[0my_pred\u001b[0m\u001b[0;34m)\u001b[0m\u001b[0;34m\u001b[0m\u001b[0;34m\u001b[0m\u001b[0m\n\u001b[0m\u001b[1;32m   1971\u001b[0m \u001b[0;34m\u001b[0m\u001b[0m\n\u001b[1;32m   1972\u001b[0m     \u001b[0;32mif\u001b[0m \u001b[0mlabels\u001b[0m \u001b[0;32mis\u001b[0m \u001b[0;32mNone\u001b[0m\u001b[0;34m:\u001b[0m\u001b[0;34m\u001b[0m\u001b[0;34m\u001b[0m\u001b[0m\n",
      "\u001b[0;32m/opt/conda/lib/python3.8/site-packages/sklearn/metrics/_classification.py\u001b[0m in \u001b[0;36m_check_targets\u001b[0;34m(y_true, y_pred)\u001b[0m\n\u001b[1;32m     81\u001b[0m     \u001b[0my_pred\u001b[0m \u001b[0;34m:\u001b[0m \u001b[0marray\u001b[0m \u001b[0;32mor\u001b[0m \u001b[0mindicator\u001b[0m \u001b[0mmatrix\u001b[0m\u001b[0;34m\u001b[0m\u001b[0;34m\u001b[0m\u001b[0m\n\u001b[1;32m     82\u001b[0m     \"\"\"\n\u001b[0;32m---> 83\u001b[0;31m     \u001b[0mcheck_consistent_length\u001b[0m\u001b[0;34m(\u001b[0m\u001b[0my_true\u001b[0m\u001b[0;34m,\u001b[0m \u001b[0my_pred\u001b[0m\u001b[0;34m)\u001b[0m\u001b[0;34m\u001b[0m\u001b[0;34m\u001b[0m\u001b[0m\n\u001b[0m\u001b[1;32m     84\u001b[0m     \u001b[0mtype_true\u001b[0m \u001b[0;34m=\u001b[0m \u001b[0mtype_of_target\u001b[0m\u001b[0;34m(\u001b[0m\u001b[0my_true\u001b[0m\u001b[0;34m)\u001b[0m\u001b[0;34m\u001b[0m\u001b[0;34m\u001b[0m\u001b[0m\n\u001b[1;32m     85\u001b[0m     \u001b[0mtype_pred\u001b[0m \u001b[0;34m=\u001b[0m \u001b[0mtype_of_target\u001b[0m\u001b[0;34m(\u001b[0m\u001b[0my_pred\u001b[0m\u001b[0;34m)\u001b[0m\u001b[0;34m\u001b[0m\u001b[0;34m\u001b[0m\u001b[0m\n",
      "\u001b[0;32m/opt/conda/lib/python3.8/site-packages/sklearn/utils/validation.py\u001b[0m in \u001b[0;36mcheck_consistent_length\u001b[0;34m(*arrays)\u001b[0m\n\u001b[1;32m    317\u001b[0m     \u001b[0muniques\u001b[0m \u001b[0;34m=\u001b[0m \u001b[0mnp\u001b[0m\u001b[0;34m.\u001b[0m\u001b[0munique\u001b[0m\u001b[0;34m(\u001b[0m\u001b[0mlengths\u001b[0m\u001b[0;34m)\u001b[0m\u001b[0;34m\u001b[0m\u001b[0;34m\u001b[0m\u001b[0m\n\u001b[1;32m    318\u001b[0m     \u001b[0;32mif\u001b[0m \u001b[0mlen\u001b[0m\u001b[0;34m(\u001b[0m\u001b[0muniques\u001b[0m\u001b[0;34m)\u001b[0m \u001b[0;34m>\u001b[0m \u001b[0;36m1\u001b[0m\u001b[0;34m:\u001b[0m\u001b[0;34m\u001b[0m\u001b[0;34m\u001b[0m\u001b[0m\n\u001b[0;32m--> 319\u001b[0;31m         raise ValueError(\"Found input variables with inconsistent numbers of\"\n\u001b[0m\u001b[1;32m    320\u001b[0m                          \" samples: %r\" % [int(l) for l in lengths])\n\u001b[1;32m    321\u001b[0m \u001b[0;34m\u001b[0m\u001b[0m\n",
      "\u001b[0;31mValueError\u001b[0m: Found input variables with inconsistent numbers of samples: [0, 3600]"
     ]
    }
   ],
   "source": [
    "#Link: https://www.machinecurve.com/index.php/2020/02/21/how-to-predict-new-samples-with-your-keras-model/\n",
    "predictions = model.predict(X_test)\n",
    "\n",
    "#Getting the max probabilities for the predictions\n",
    "y_pred_classes = np.argmax(predictions, axis = 1)\n",
    "#print(y_pred_classes)\n",
    "\n",
    "result = tf.math.confusion_matrix(y_test,y_pred_classes)\n",
    "\n",
    " \n",
    "# Printing the result\n",
    "print('Confusion_matrix: ',result )\n",
    " \n",
    "\n",
    "#print('Confusion Matrix\\n')\n",
    "#print(confusion)\n",
    "\n",
    "classification_report(y_test_correct, y_pred_classes)\n",
    "print('\\nClassification Report\\n')\n",
    "print(classification_report(y_test, y_pred_classes, target_names=['non-hla', 'hla_a', 'hla_dp', 'hla_dq', 'hla_dr']))"
   ]
  },
  {
   "cell_type": "markdown",
   "metadata": {},
   "source": [
    "## Grid Search"
   ]
  },
  {
   "cell_type": "code",
   "execution_count": null,
   "metadata": {},
   "outputs": [],
   "source": [
    "## NN Parameters for tuning\n",
    "#alphas = np.array([0.2,0.1,0.01,0.05,0.001])\n",
    "#learningrateinit = np.array([0.2,0.1,0.01,0.001])\n",
    "#hiddenlayers = np.array([50,100,200,300])\n",
    "#maxiter = np.array([100,200,300])\n",
    "#solvers = ('adam','lbfgs') #('lbfgs', 'sgd', 'adam')\n",
    "#activations = ('relu') #,'logistic','tanh','identity')  # ('identity', 'logistic', 'tanh', 'relu')\n",
    "#param = dict( activation=activations, solver=solvers, alpha = alphas, hidden_layer_sizes = hiddenlayers, max_iter = maxiter, learning_rate_init = learningrateinit)\n",
    "\n",
    "\n",
    "#learningrateinit = np.array([0.1,0.01])\n",
    "#hiddenlayers = np.array([50,100,200])\n",
    "#param = dict(hidden_layer_sizes = hiddenlayers, learning_rate_init = learningrateinit)\n",
    "\n",
    "#grid = GridSearchCV(estimator=model, param_grid=param,\n",
    "#                    cv=5, verbose=10)\n",
    "#grid = GridSearchCV(model,param, cv=5)\n",
    "#grid.fit(X, y)\n"
   ]
  },
  {
   "cell_type": "markdown",
   "metadata": {},
   "source": [
    "## Original NN Code"
   ]
  },
  {
   "cell_type": "code",
   "execution_count": null,
   "metadata": {},
   "outputs": [],
   "source": [
    "'''\n",
    "num_classes = len(output_classes.keys())\n",
    "for train_class, idx in output_classes.items():\n",
    "    output_arr = np.zeros(num_classes)\n",
    "    output_arr[idx] = 1\n",
    "    train_sampler = FastmSampler(fastm_file_path=output_paths[train_class],\n",
    "                        n_prob_upper_limit=training_params['n_prob_upper_limit'],\n",
    "                        mutation_prob_upper_limit=training_params['mutation_prob_upper_limit'],\n",
    "                        delete_prob_upper_limit=training_params['delete_prob_upper_limit'],\n",
    "                        insert_prob_upper_limit=training_params['insert_prob_upper_limit'],\n",
    "                        min_read_length=training_params['min_read_length'],\n",
    "                        tensor_length=mp['max_fragment_length'],\n",
    "                        b_randomize_location=training_params['b_randomize_location'],\n",
    "                        b_randomize_direction=training_params['b_randomize_direction'],\n",
    "                        training_output=output_arr\n",
    "                       )\n",
    "    print(train_class,idx,output_arr)\n",
    "    fastm_samplers.append(train_sampler)\n",
    "'''"
   ]
  },
  {
   "cell_type": "code",
   "execution_count": null,
   "metadata": {},
   "outputs": [],
   "source": [
    "'''\n",
    "def shuffle_x_y_together(a, b):\n",
    "    \"\"\"\n",
    "    Shuffles 2 numpy arrays together at the 1st dimension. Keeps them together, such that (Xi,Yi) => (Xj,Xj)\n",
    "    :param a: Numpy Array\n",
    "    :param b: Numpy Array\n",
    "    :return: Shuffled A, Shuffled B\n",
    "    \"\"\"\n",
    "    a_s = a.shape[0]\n",
    "    b_s = b.shape[0]\n",
    "    assert a_s == b_s, \"Arrays must be of same size\"\n",
    "    i = np.argsort(np.random.permutation(a_s))\n",
    "    return a[i, :, :], b[i, :]\n",
    "\n",
    "shuffle_x_y_together(total_tensor_array, total_tensor_class)\n",
    "\n",
    "\n",
    "def build_train_sets(data_samplers,\n",
    "                    sample_size=1000,\n",
    "                     test_size=.2):\n",
    "    \"\"\"\n",
    "    Builds creates a train/test tensor for a round of training. \n",
    "    :param data_samplers: list sfseventools.FastmSampler\n",
    "    :param sample_size: Samples per tensor, default 1000\n",
    "    :param test_size: Test size as percentage of sample size. Default .2\n",
    "    :return: x_train, y_train, x_test, y_test\n",
    "    \"\"\"\n",
    "    length = len(data_samplers)\n",
    "    test_length = int(length * test_size)\n",
    "\n",
    "    x_train = np.concatenate([data_samplers[i].build_tensor(sample_size) \n",
    "                                                for i in range(length)])\n",
    "    y_train = np.concatenate([data_samplers[i].build_output_tensor(sample_size) for i in range(length)])\n",
    "    x_test = np.concatenate([data_samplers[i].build_tensor(sample_size) for i in range(test_length)])\n",
    "    y_test = np.concatenate([data_samplers[i].build_output_tensor(sample_size) for i in range(test_length)])\n",
    "\n",
    "\n",
    "    return x_train, y_train, x_test, y_test\n",
    "\n",
    "build_train_sets(total_tensor_array, 1000, 0.2)\n",
    "\n",
    "'''"
   ]
  },
  {
   "cell_type": "code",
   "execution_count": null,
   "metadata": {},
   "outputs": [],
   "source": [
    "def print_log(file_path,epoch):\n",
    "    f = open(file_path,'a')\n",
    "    f.write('Trained epoch: '+ epoch +'\\n') # python will convert \\n to os.linesep\n",
    "    f.close()\n",
    "\n",
    "# Log Training\n",
    "def train_log(file_path, epoch, accuracy):\n",
    "    f = open(file_path,'a')\n",
    "    f.write('Epoch '+str(epoch)+ ' loss/accuracy:'+ str(accuracy)+'\\n')\n",
    "    print('Epoch '+str(epoch)+ ' loss/accuracy:'+ str(accuracy)+'\\n')# python will convert \\n to os.linesep\n",
    "    f.close()"
   ]
  },
  {
   "cell_type": "code",
   "execution_count": null,
   "metadata": {},
   "outputs": [],
   "source": [
    "def train_network(model,\n",
    "                  data_sets,\n",
    "                  output_file, \n",
    "                  log_filepath,\n",
    "                  training_params,\n",
    "                  history,\n",
    "                  save_weights = True\n",
    "                  ):\n",
    "\n",
    "    test_loss = []\n",
    "    test_acc = []\n",
    "    \n",
    "    for i in range(training_params['nb_epochs']):\n",
    "        X_train,y_train,X_test,y_test = build_train_sets(data_samplers=fastm_samplers,\n",
    "                  sample_size = training_params['num_samples'])\n",
    "        print('epoch: ' + str(i))\n",
    "        \n",
    "\n",
    "       \n",
    "        model.fit(X_train, y_train, batch_size=training_params['batch_size'],\n",
    "                  epochs=1,\n",
    "                  verbose=0, shuffle=True, callbacks=[history])    # Manually save model\n",
    "        loss_and_metrics = model.evaluate(X_test, y_test, batch_size=training_params['batch_size'])\n",
    "        test_loss.append(loss_and_metrics[0])\n",
    "        test_acc.append(loss_and_metrics[1])\n",
    "        train_log(log_filepath,str(i),loss_and_metrics)\n",
    "\n",
    "        if save_weights and i%10 ==0:\n",
    "            print(\"Saving Model\")\n",
    "            model.save_weights(output_file,overwrite=True)\n"
   ]
  },
  {
   "cell_type": "code",
   "execution_count": null,
   "metadata": {},
   "outputs": [],
   "source": [
    "train_network(model=model, \n",
    "              data_sets=fastm_samplers,\n",
    "              output_file = \"/root/Notebooks/test/keras_files/hla_weights.h5\",\n",
    "              log_filepath= \"/root/Notebooks/test/keras_files/log_file.txt\",\n",
    "              training_params = training_params,\n",
    "              history=history\n",
    "             )"
   ]
  },
  {
   "cell_type": "code",
   "execution_count": null,
   "metadata": {},
   "outputs": [],
   "source": [
    "with open(\"/root/Notebooks/test/keras_files/hla_network_schema.json\", \"w\") as json_file:\n",
    "    json_file.write(model.to_json())\n",
    "\n"
   ]
  },
  {
   "cell_type": "code",
   "execution_count": null,
   "metadata": {},
   "outputs": [],
   "source": [
    "model.save_weights(\"/root/Notebooks/test/keras_files/hla_weights_200epoch.h5\",overwrite=True)"
   ]
  },
  {
   "cell_type": "code",
   "execution_count": null,
   "metadata": {},
   "outputs": [],
   "source": [
    "res_x = x[10001]\n",
    "res_y = y[10001]\n",
    "tmp_x, tmp_y = shuffle_x_y(x,y)\n",
    "for idx, arr in enumerate(tmp_x):\n",
    "    if (arr == res_x).all():\n",
    "        print (res_y, tmp_y[idx],idx)"
   ]
  },
  {
   "cell_type": "code",
   "execution_count": null,
   "metadata": {},
   "outputs": [],
   "source": [
    "a = np.concatenate([fastm_samplers[i].build_tensor(15) for i in range(len(fastm_samplers))])"
   ]
  },
  {
   "cell_type": "code",
   "execution_count": null,
   "metadata": {},
   "outputs": [],
   "source": [
    "len(fastm_samplers)"
   ]
  },
  {
   "cell_type": "code",
   "execution_count": null,
   "metadata": {},
   "outputs": [],
   "source": [
    "np.random.choice(100,3)"
   ]
  },
  {
   "cell_type": "code",
   "execution_count": null,
   "metadata": {},
   "outputs": [],
   "source": [
    "from random import uniform\n",
    "int(round(uniform(1,18), 0))"
   ]
  },
  {
   "cell_type": "code",
   "execution_count": null,
   "metadata": {},
   "outputs": [],
   "source": [
    "np.zeros(len(output_classes.keys()))"
   ]
  },
  {
   "cell_type": "code",
   "execution_count": null,
   "metadata": {},
   "outputs": [],
   "source": [
    "for k,v in output_classes.items():\n",
    "    print(k,v)"
   ]
  },
  {
   "cell_type": "code",
   "execution_count": null,
   "metadata": {},
   "outputs": [],
   "source": [
    "a = np.array([\n",
    "    [[0, 0, 0, 0, 0],\n",
    "    [ 27,  0,  0,  0, 0]], \n",
    "    \n",
    "    [[1, 1, 1, 1, 1],\n",
    "    [ 1,  18, 1 ,  1, 1]],\n",
    "    \n",
    "    [[2, 2, 2, 2, 2],\n",
    "    [ 2,  2,  22,  2, 2]], \n",
    "    \n",
    "    [[3, 3, 3, 3, 3],\n",
    "    [ 3,  3,  3,  33, 3]],\n",
    "    \n",
    "    [[4, 4, 4, 4, 4],\n",
    "    [ 4,  4,  4,  4, 44]], \n",
    "    \n",
    "    [[5, 5, 5, 5, 5],\n",
    "    [ 5,  1,  5,  5, 55]],\n",
    "])\n",
    "b = np.array([[0,0,0],\n",
    "              [1,0,0],\n",
    "              [0,2,0],\n",
    "              [0,3,0],\n",
    "              [0,0,4],\n",
    "              [0,0,5]])"
   ]
  },
  {
   "cell_type": "code",
   "execution_count": null,
   "metadata": {},
   "outputs": [],
   "source": [
    "a.shape"
   ]
  },
  {
   "cell_type": "code",
   "execution_count": null,
   "metadata": {},
   "outputs": [],
   "source": [
    "b.shape"
   ]
  },
  {
   "cell_type": "code",
   "execution_count": null,
   "metadata": {},
   "outputs": [],
   "source": [
    "s_a, s_b = shuffle_x_y(a,b)"
   ]
  },
  {
   "cell_type": "code",
   "execution_count": null,
   "metadata": {},
   "outputs": [],
   "source": [
    "s_a"
   ]
  },
  {
   "cell_type": "code",
   "execution_count": null,
   "metadata": {},
   "outputs": [],
   "source": [
    "s_b"
   ]
  },
  {
   "cell_type": "code",
   "execution_count": null,
   "metadata": {},
   "outputs": [],
   "source": [
    "a"
   ]
  },
  {
   "cell_type": "code",
   "execution_count": null,
   "metadata": {},
   "outputs": [],
   "source": [
    "t = np.array([[[  0.,   1.,   2.],\n",
    "                  [  3.,   4.,   5.]],\n",
    "\n",
    "                 [[  6.,   7.,   8.],\n",
    "                  [  9.,  10.,  11.]],\n",
    "\n",
    "                 [[ 12.,  13.,  14.],\n",
    "                  [ 15.,  16.,  17.]]])"
   ]
  },
  {
   "cell_type": "code",
   "execution_count": null,
   "metadata": {},
   "outputs": [],
   "source": [
    "t[[0,2,1],:,:]"
   ]
  },
  {
   "cell_type": "code",
   "execution_count": null,
   "metadata": {},
   "outputs": [],
   "source": [
    "np.asarray([train_negative.training_output for i in range(15)])"
   ]
  }
 ],
 "metadata": {
  "kernelspec": {
   "display_name": "Python 3",
   "language": "python",
   "name": "python3"
  },
  "language_info": {
   "codemirror_mode": {
    "name": "ipython",
    "version": 3
   },
   "file_extension": ".py",
   "mimetype": "text/x-python",
   "name": "python",
   "nbconvert_exporter": "python",
   "pygments_lexer": "ipython3",
   "version": "3.8.8"
  }
 },
 "nbformat": 4,
 "nbformat_minor": 4
}
