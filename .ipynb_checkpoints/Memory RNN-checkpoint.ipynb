{
 "cells": [
  {
   "cell_type": "code",
   "execution_count": null,
   "id": "68750cf1-f241-4d84-8348-51212d8afb27",
   "metadata": {},
   "outputs": [],
   "source": [
    "#Memory RNN with words\n",
    "\n",
    "# https://www.oreilly.com/content/question-answering-with-tensorflow/ (using babl dataset)\n",
    "\n"
   ]
  }
 ],
 "metadata": {
  "kernelspec": {
   "display_name": "Python 3",
   "language": "python",
   "name": "python3"
  },
  "language_info": {
   "codemirror_mode": {
    "name": "ipython",
    "version": 3
   },
   "file_extension": ".py",
   "mimetype": "text/x-python",
   "name": "python",
   "nbconvert_exporter": "python",
   "pygments_lexer": "ipython3",
   "version": "3.8.8"
  }
 },
 "nbformat": 4,
 "nbformat_minor": 5
}
