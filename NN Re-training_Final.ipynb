{
 "cells": [
  {
   "cell_type": "code",
   "execution_count": 2,
   "metadata": {},
   "outputs": [],
   "source": [
    "from random import randint, getrandbits\n",
    "import itertools\n",
    "import datetime\n",
    "import tensorflow.experimental.numpy as tnp\n",
    "import timeit\n",
    "import matplotlib.pyplot as plt\n",
    "import numpy as np\n",
    "import pandas as pd\n",
    "import sklearn\n",
    "from ShreyaNNtraining_Final import random_mutation, random_n_mutation, random_delete, random_insert, sample_from_transcripts\n",
    "import tensorflow as tf\n",
    "from tensorflow.keras import layers, Sequential\n",
    "from tensorflow.keras.layers import Dense, Dropout, LSTM, GRU, Bidirectional, Activation, MaxPool1D, Conv1D\n",
    "from sklearn.model_selection import train_test_split\n",
    "from sklearn.preprocessing import LabelEncoder\n",
    "from sklearn.model_selection import GridSearchCV\n",
    "from sklearn.metrics import confusion_matrix\n",
    "from sklearn.metrics import classification_report\n",
    "\n",
    "%load_ext tensorboard"
   ]
  },
  {
   "cell_type": "code",
   "execution_count": 3,
   "metadata": {},
   "outputs": [
    {
     "data": {
      "text/plain": [
       "'2.5.0'"
      ]
     },
     "execution_count": 3,
     "metadata": {},
     "output_type": "execute_result"
    }
   ],
   "source": [
    "tf.__version__"
   ]
  },
  {
   "cell_type": "code",
   "execution_count": 4,
   "metadata": {},
   "outputs": [],
   "source": [
    "output_classes = {\n",
    "    'hla_a'  :1,\n",
    "    #'hla_b'  :1,\n",
    "    #'hla_c'  :2,\n",
    "    'hla_dp' :2,\n",
    "    'hla_dq' :3,\n",
    "    'hla_dr' :4,\n",
    "    'neither': 5,\n",
    "    #'hla_dr_copy': 5,\n",
    "    #'hla_tap':6,\n",
    "    #'hla_mica':7,\n",
    "    #'hla_micb':8,\n",
    "    #'hla_kir':9\n",
    "    #'refMrna' :10\n",
    "    #'hla': 1,\n",
    "    'non-hla': 0\n",
    "}\n",
    "\n",
    "#3-way:\n",
    "#hla_dp: 2\n",
    "#hla_dq: 3\n",
    "#non_hla: 0\n",
    "\n",
    "#4-way:\n",
    "#hla_a: 1\n",
    "#hla_dp: 2\n",
    "#hla_dq: 3\n",
    "#non_hla: 0\n",
    "\n",
    "#5-way:\n",
    "#hla_a: 1\n",
    "#hla_dp: 2\n",
    "#hla_dq: 3\n",
    "#hla_dr: 4\n",
    "#non_hla: 0\n",
    "\n",
    "\n",
    "\n",
    "output_paths= {\n",
    "    'hla_a'  :\"data/Sample/hla_a2.fastm\",\n",
    "    #'hla_b'  :\"/Users/davidott/Workspace/notebooks/test/hla_fastm/hla_b.fastm\",\n",
    "    #'hla_c'  :\"/Users/davidott/Workspace/notebooks/test/hla_fastm/hla_c.fastm\",\n",
    "    'hla_dp' :\"data/Sample/hla_dp2.fastm\",\n",
    "    'hla_dq' :\"data/Sample/hla_dq2.fastm\",\n",
    "    'hla_dr' :\"data/Sample/hla_dr2.fastm\",\n",
    "    #'hla_tap':\"/Users/davidott/Workspace/notebooks/test/hla_fastm/hla_tap.fastm\",\n",
    "    #'hla_mica':\"/Users/davidott/Workspace/notebooks/test/hla_fastm/hla_mica.fastm\",\n",
    "    #'hla_micb':\"/Users/davidott/Workspace/notebooks/test/hla_fastm/hla_micb.fastm\",\n",
    "    #'hla_kir':\"/root/Notebooks/test/hla_fastm/KIR_nuc.fastm\"\n",
    "    'non-hla': \"data/Sample/refMrna.fastm\"\n",
    "    \n",
    "}\n",
    "\n",
    "file_paths= {\n",
    "    #'hla_a'  :np.asarray([1,0,0,0,0,0,0,0,0]),\n",
    "    #'hla_b'  :np.asarray([0,1,0,0,0,0,0,0,0]),\n",
    "    #'hla_c'  :np.asarray([0,0,1,0,0,0,0,0,0]),\n",
    "    #'hla_dp' :np.asarray([0,0,0,1,0,0,0,0,0]),\n",
    "    #'hla_dq' :np.asarray([0,0,0,0,1,0,0,0,0]),\n",
    "    #'hla_dr' :np.asarray([0,0,0,0,0,1,0,0,0]),\n",
    "    #'hla_tap':np.asarray([0,0,0,0,0,0,1,0,0]),\n",
    "    #'hla_mica':np.asarray([0,0,0,0,0,0,0,1,0]),\n",
    "    #'hla_micb':np.asarray([0,0,0,0,0,0,0,0,1]),\n",
    "    #'hla_kir':np.asarray([0,0,0,0,0,0,0,0,1])\n",
    "    'hla_a':np.asarray([1,0,0,0,0]),\n",
    "    'hla_dp':np.asarray([0,1,0,0,0]),\n",
    "    'hla_dq':np.asarray([0,0,1,0,0]),\n",
    "    'hla_dr':np.asarray([0,0,0,1,0]),\n",
    "    'non-hla': np.asarray([0,0,0,0,1])\n",
    "    #'neither': ([0,0,0,0,0,0])\n",
    "}\n",
    "\n",
    "mp = {\n",
    "    \n",
    "        'layers':\n",
    "        [\n",
    "            'conv_1',\n",
    "            'maxpool_1',\n",
    "            'dropout_1',\n",
    "            'bidirectional_1',\n",
    "            'dropout_2',\n",
    "            'dense_1',\n",
    "            'dense_drop_1',\n",
    "            'dense_2',\n",
    "            'dense_drop_2',\n",
    "            'dense_3'\n",
    "        ],\n",
    "        \n",
    "        'conv_1': \n",
    "        { \n",
    "            'type':'Conv1D',\n",
    "            'num_filters': 320,\n",
    "            'kernel_size': 9,\n",
    "            'stride': 3,\n",
    "            'name': '1dconv_1',\n",
    "            'activation':'relu', \n",
    "        },\n",
    "        'maxpool_1': \n",
    "        {\n",
    "            'type':'MaxPooling1D',\n",
    "            'pool_size': 3,\n",
    "            'strides': None,\n",
    "            'name': 'maxpool_1'\n",
    "        },\n",
    "        'dropout_1': \n",
    "        {\n",
    "            'type':'Dropout',\n",
    "            'percent': .4,\n",
    "            'name': 'dropout_1',\n",
    "        },\n",
    "        'bidirectional_1':\n",
    "        {\n",
    "            'type':'Bidirectional',\n",
    "            'output_dim': 320,\n",
    "            'recurrent_dropout':.3,\n",
    "            'dropout':.3,\n",
    "            'name':'bidirectional_lstm1',\n",
    "            'return_sequences':False,\n",
    "            'merge_mode':'concat'\n",
    "        },\n",
    "        'dropout_2': \n",
    "        {\n",
    "            'type':'Dropout',\n",
    "            'percent': .6,\n",
    "            'name': 'dropout_2',\n",
    "        },\n",
    "        'dense_1':\n",
    "        {\n",
    "            'type':'Dense',\n",
    "            'activation':'relu',\n",
    "            'output_dim': 160,\n",
    "            'name': 'multiclass_1'\n",
    "        },\n",
    "        'dense_drop_1':\n",
    "        {\n",
    "            'type':'Dropout',\n",
    "            'percent': .4,\n",
    "            'name': 'dense_dropout_1',\n",
    "        },\n",
    "        'dense_2':\n",
    "        {\n",
    "            'type':'Dense',\n",
    "            'activation':'relu',\n",
    "            'output_dim': 160,\n",
    "            'name': 'multiclass_dense_2'\n",
    "        },\n",
    "        'dense_drop_2':\n",
    "        {\n",
    "            'type':'Dropout',\n",
    "            'percent': .4,\n",
    "            'name': 'dense_dropout_2',\n",
    "        },\n",
    "        'dense_3':\n",
    "        {\n",
    "            'type':'Dense',\n",
    "            'activation':'sigmoid',\n",
    "            'output_dim': len(output_classes.keys()),\n",
    "            'name': 'multiclass_dense_3'\n",
    "        },\n",
    "        'max_fragment_length':400,\n",
    "        'loss':'binary_crossentropy',\n",
    "        'optimizer':'rmsprop',\n",
    "        'metrics':['accuracy'],\n",
    "        'num_classes': len(output_classes.keys())\n",
    "    }\n",
    "    \n",
    "training_params = {\n",
    "    'num_samples': 1000,\n",
    "    'batch_size': 100,\n",
    "    'nb_epochs' : 2000,\n",
    "    'learning_rate': 1e-4,\n",
    "    'n_prob':.06,\n",
    "    'mutation_prob':.02,\n",
    "    'delete_prob':.015,\n",
    "    'insert_prob':.015,\n",
    "    'min_read_length':75,\n",
    "    'max_read_length': 128,\n",
    "    'b_randomize_location':True,\n",
    "    'b_randomize_direction':False, \n",
    "    'sample_size': 10\n",
    "}\n",
    "\n",
    "output_length= len(output_paths)"
   ]
  },
  {
   "cell_type": "markdown",
   "metadata": {},
   "source": [
    "## Data Processing"
   ]
  },
  {
   "cell_type": "code",
   "execution_count": 5,
   "metadata": {},
   "outputs": [],
   "source": [
    "#Converting data into numpy array\n",
    "def reads_to_numpy(input):#reads, training_parameters):\n",
    "    final_array = []\n",
    "    i = 0\n",
    "    for index in input:\n",
    "        string_array = []\n",
    "        #print(index)\n",
    "        #[final_array.append(string_array) for index in input]\n",
    "        for i in index:\n",
    "            #print(i)\n",
    "            if i == \"A\":\n",
    "                string_array.append([1,0,0,0])\n",
    "            elif i == \"C\":\n",
    "                string_array.append([0,1,0,0])\n",
    "            elif i == \"G\":\n",
    "                string_array.append([0,0,1,0])\n",
    "            elif i == \"T\":\n",
    "                string_array.append([0,0,0,1])\n",
    "            else:\n",
    "                string_array.append([0,0,0,0])\n",
    "        final_array.append(string_array)\n",
    "        tensor_array= np.array(final_array)\n",
    "    return tensor_array    \n",
    "\n"
   ]
  },
  {
   "cell_type": "code",
   "execution_count": null,
   "metadata": {
    "scrolled": true
   },
   "outputs": [
    {
     "name": "stderr",
     "output_type": "stream",
     "text": [
      "/home/jovyan/ShreyaNNtraining_Final.py:93: ParserWarning: Falling back to the 'python' engine because the 'c' engine does not support regex separators (separators > 1 char and different from '\\s+' are interpreted as regex); you can avoid this warning by specifying engine='python'.\n",
      "  dataframe = pd.read_csv(file, header = None, delimiter = 'bp,')\n"
     ]
    }
   ],
   "source": [
    "#Importing hla a,dp,dq,dr and non-hla data and appending both into one file\n",
    "total_tensor_class = []\n",
    "total_tensor_array = []\n",
    "\n",
    "for index in output_paths:\n",
    "    temp_array = []\n",
    "    temp_combo = sample_from_transcripts(output_paths[index], training_params, output_classes[index])\n",
    "    temp_array = temp_combo[0]\n",
    "    temp_class = temp_combo[1]\n",
    "    \n",
    "    total_tensor_class = total_tensor_class+temp_class\n",
    "    total_tensor_array = total_tensor_array+temp_array\n",
    "\n",
    "#print(len(total_tensor_array))\n",
    "#convert everything into a numpy array\n",
    "max_transcript_length = len(max(total_tensor_array, key = len))\n",
    "total_tensor_array = [entry.ljust(max_transcript_length, \"N\") for entry in total_tensor_array]\n",
    "    \n",
    "\n",
    "total_tensor_array = reads_to_numpy(total_tensor_array)\n",
    "total_tensor_class = np.asarray(total_tensor_class).astype('float32')\n",
    "\n",
    "print(total_tensor_array)\n",
    "print(total_tensor_class)"
   ]
  },
  {
   "cell_type": "code",
   "execution_count": null,
   "metadata": {
    "scrolled": true
   },
   "outputs": [],
   "source": [
    "print(total_tensor_array.shape)\n",
    "print(total_tensor_class.shape)"
   ]
  },
  {
   "cell_type": "code",
   "execution_count": null,
   "metadata": {},
   "outputs": [],
   "source": [
    "np.save('data/Sample/TensorArrays/tensor_arrays_5way.npy', total_tensor_array)\n",
    "np.save('data/Sample/TensorArrays/tensor_class_5way.npy', total_tensor_class)"
   ]
  },
  {
   "cell_type": "code",
   "execution_count": null,
   "metadata": {},
   "outputs": [],
   "source": [
    "X = np.load('data/Sample/TensorArrays/tensor_arrays_5way.npy')\n",
    "y = np.load('data/Sample/TensorArrays/tensor_class_5way.npy')\n",
    "X.shape"
   ]
  },
  {
   "cell_type": "code",
   "execution_count": null,
   "metadata": {},
   "outputs": [],
   "source": [
    "X_train, X_test, y_train, y_test = train_test_split(X, y, test_size=0.2)\n",
    "\n",
    "print(X_train.shape, y_train.shape)\n",
    "print(y_train)\n",
    "\n",
    "n_features = X_train.shape[1]\n",
    "print(n_features)"
   ]
  },
  {
   "cell_type": "markdown",
   "metadata": {},
   "source": [
    "## Working NN"
   ]
  },
  {
   "cell_type": "code",
   "execution_count": null,
   "metadata": {},
   "outputs": [],
   "source": [
    "model = tf.keras.Sequential()#[tf.keras.layers.Flatten(input_shape=(n_features, 4))]) \n",
    "\n",
    "model.add(tf.keras.layers.Conv1D(filters = 320, kernel_size = 16, \n",
    "                                 strides=3, padding='valid', activation='relu', input_shape=(n_features,4)))\n",
    "\n",
    "model.add(layers.MaxPool1D(pool_size=3, strides=None))\n",
    "\n",
    "model.add(Dropout(0.5))\n",
    "\n",
    "model.add(tf.keras.layers.Bidirectional(tf.keras.layers.LSTM(32), merge_mode = 'concat'))# merge_mode='concat', weights=None, backward_layer=None))\n",
    "\n",
    "model.add(Dropout(0.5))\n",
    "\n",
    "model.add(Dense(4, activation='sigmoid', kernel_initializer='he_normal'))\n",
    "\n",
    "model.add(Dropout(0.5))\n",
    "\n",
    "model.add(Dense(output_length, activation='sigmoid', kernel_initializer='he_normal'))\n",
    "\n",
    "optimizer = tf.keras.optimizers.Adam(learning_rate = 0.001)\n",
    "\n",
    "model.compile(optimizer=optimizer, loss='SparseCategoricalCrossentropy', metrics=['accuracy'])\n",
    "\n",
    "model.summary()\n",
    "\n",
    "log_dir = \"data/Sample/logs/fit/\" + datetime.datetime.now().strftime(\"%Y%m%d-%H%M%S\")\n",
    "tensorboard_callback = tf.keras.callbacks.TensorBoard(log_dir=log_dir, histogram_freq=1)\n",
    "\n",
    "\n",
    "model.fit(X_train, y_train, validation_data=(X_test, y_test), batch_size=8, epochs=50, verbose = 1, shuffle = True, callbacks = [tensorboard_callback])\n",
    "\n",
    "loss, acc = model.evaluate(X_test, y_test, verbose=1)\n",
    "print('Test Accuracy: %.3f' % acc)"
   ]
  },
  {
   "cell_type": "markdown",
   "metadata": {},
   "source": [
    "## Tensorboard Analysis"
   ]
  },
  {
   "cell_type": "code",
   "execution_count": null,
   "metadata": {},
   "outputs": [],
   "source": [
    "tensorboard --logdir 'data/Sample/logs/fit/'"
   ]
  },
  {
   "cell_type": "markdown",
   "metadata": {},
   "source": [
    "## Confusion Matrix and Classification Report"
   ]
  },
  {
   "cell_type": "code",
   "execution_count": null,
   "metadata": {},
   "outputs": [],
   "source": [
    "#Link: https://www.machinecurve.com/index.php/2020/02/21/how-to-predict-new-samples-with-your-keras-model/\n",
    "predictions = model.predict(X_test)\n",
    "\n",
    "#Getting the max probabilities for the predictions\n",
    "y_pred_classes = np.argmax(predictions, axis = 1)\n",
    "#print(y_pred_classes)\n",
    "\n",
    "result = tf.math.confusion_matrix(y_test,y_pred_classes)\n",
    "\n",
    " \n",
    "# Printing the result\n",
    "print('Confusion_matrix: ',result )\n",
    " \n",
    "\n",
    "#print('Confusion Matrix\\n')\n",
    "#print(confusion)\n",
    "\n",
    "classification_report(y_test, y_pred_classes)\n",
    "print('\\nClassification Report\\n')\n",
    "print(classification_report(y_test, y_pred_classes, target_names=['non-hla', 'hla_a', 'hla_dp', 'hla_dq', 'hla_dr']))\n"
   ]
  },
  {
   "cell_type": "markdown",
   "metadata": {},
   "source": [
    "## Grid Search"
   ]
  },
  {
   "cell_type": "code",
   "execution_count": null,
   "metadata": {},
   "outputs": [],
   "source": [
    "## NN Parameters for tuning\n",
    "#alphas = np.array([0.2,0.1,0.01,0.05,0.001])\n",
    "#learningrateinit = np.array([0.2,0.1,0.01,0.001])\n",
    "#hiddenlayers = np.array([50,100,200,300])\n",
    "#maxiter = np.array([100,200,300])\n",
    "#solvers = ('adam','lbfgs') #('lbfgs', 'sgd', 'adam')\n",
    "#activations = ('relu') #,'logistic','tanh','identity')  # ('identity', 'logistic', 'tanh', 'relu')\n",
    "#param = dict( activation=activations, solver=solvers, alpha = alphas, hidden_layer_sizes = hiddenlayers, max_iter = maxiter, learning_rate_init = learningrateinit)\n",
    "\n",
    "\n",
    "#learningrateinit = np.array([0.1,0.01])\n",
    "#hiddenlayers = np.array([50,100,200])\n",
    "#param = dict(hidden_layer_sizes = hiddenlayers, learning_rate_init = learningrateinit)\n",
    "\n",
    "#grid = GridSearchCV(estimator=model, param_grid=param,\n",
    "#                    cv=5, verbose=10)\n",
    "#grid = GridSearchCV(model,param, cv=5)\n",
    "#grid.fit(X, y)"
   ]
  },
  {
   "cell_type": "markdown",
   "metadata": {},
   "source": [
    "## Original NN Code"
   ]
  },
  {
   "cell_type": "code",
   "execution_count": null,
   "metadata": {},
   "outputs": [],
   "source": [
    "'''\n",
    "def print_log(file_path,epoch):\n",
    "    f = open(file_path,'a')\n",
    "    f.write('Trained epoch: '+ epoch +'\\n') # python will convert \\n to os.linesep\n",
    "    f.close()\n",
    "\n",
    "# Log Training\n",
    "def train_log(filename, epoch, accuracy):\n",
    "    f = open(file_path,'a')\n",
    "    f.write('Trained file: '+str(filename)+', epoch '+str(epoch)+ ' accuracy:'+ str(accuracy)+'\\n') # python will convert \\n to os.linesep\n",
    "    f.close()\n",
    "'''\n",
    "\n",
    "'''\n",
    "num_classes = len(output_classes.keys())\n",
    "for train_class, idx in output_classes.items():\n",
    "    output_arr = np.zeros(num_classes)\n",
    "    output_arr[idx] = 1\n",
    "    train_sampler = FastmSampler(fastm_file_path=output_paths[train_class],\n",
    "                        n_prob_upper_limit=training_params['n_prob_upper_limit'],\n",
    "                        mutation_prob_upper_limit=training_params['mutation_prob_upper_limit'],\n",
    "                        delete_prob_upper_limit=training_params['delete_prob_upper_limit'],\n",
    "                        insert_prob_upper_limit=training_params['insert_prob_upper_limit'],\n",
    "                        min_read_length=training_params['min_read_length'],\n",
    "                        tensor_length=mp['max_fragment_length'],\n",
    "                        b_randomize_location=training_params['b_randomize_location'],\n",
    "                        b_randomize_direction=training_params['b_randomize_direction'],\n",
    "                        training_output=output_arr\n",
    "                       )\n",
    "    print(train_class,idx,output_arr)\n",
    "    fastm_samplers.append(train_sampler)\n",
    "'''"
   ]
  },
  {
   "cell_type": "code",
   "execution_count": null,
   "metadata": {},
   "outputs": [],
   "source": [
    "'''\n",
    "def shuffle_x_y_together(a, b):\n",
    "    \"\"\"\n",
    "    Shuffles 2 numpy arrays together at the 1st dimension. Keeps them together, such that (Xi,Yi) => (Xj,Xj)\n",
    "    :param a: Numpy Array\n",
    "    :param b: Numpy Array\n",
    "    :return: Shuffled A, Shuffled B\n",
    "    \"\"\"\n",
    "    a_s = a.shape[0]\n",
    "    b_s = b.shape[0]\n",
    "    assert a_s == b_s, \"Arrays must be of same size\"\n",
    "    i = np.argsort(np.random.permutation(a_s))\n",
    "    return a[i, :, :], b[i, :]\n",
    "\n",
    "shuffle_x_y_together(total_tensor_array, total_tensor_class)\n",
    "\n",
    "\n",
    "def build_train_sets(data_samplers,\n",
    "                    sample_size=1000,\n",
    "                     test_size=.2):\n",
    "    \"\"\"\n",
    "    Builds creates a train/test tensor for a round of training. \n",
    "    :param data_samplers: list sfseventools.FastmSampler\n",
    "    :param sample_size: Samples per tensor, default 1000\n",
    "    :param test_size: Test size as percentage of sample size. Default .2\n",
    "    :return: x_train, y_train, x_test, y_test\n",
    "    \"\"\"\n",
    "    length = len(data_samplers)\n",
    "    test_length = int(length * test_size)\n",
    "\n",
    "    x_train = np.concatenate([data_samplers[i].build_tensor(sample_size) \n",
    "                                                for i in range(length)])\n",
    "    y_train = np.concatenate([data_samplers[i].build_output_tensor(sample_size) for i in range(length)])\n",
    "    x_test = np.concatenate([data_samplers[i].build_tensor(sample_size) for i in range(test_length)])\n",
    "    y_test = np.concatenate([data_samplers[i].build_output_tensor(sample_size) for i in range(test_length)])\n",
    "\n",
    "\n",
    "    return x_train, y_train, x_test, y_test\n",
    "\n",
    "build_train_sets(total_tensor_array, 1000, 0.2)\n",
    "\n",
    "'''\n",
    "\n",
    "'''\n",
    "def shuffle_x_y_together(a,b):\n",
    "    a_s = a.shape[0]\n",
    "    b_s = b.shape[0]\n",
    "    assert a_s == b_s, \"Arrays must be of same size\"\n",
    "    i = np.argsort(np.random.permutation(a_s))\n",
    "    return (a[i,:,:],b[i,:])\n",
    "\n",
    "def build_train_sets(data_samplers,\n",
    "                  sample_size=1000,\n",
    "                  max_fragment_length=400,\n",
    "                    test_size = .2):\n",
    "\n",
    "    test_x = None\n",
    "    train_x = None\n",
    "    X_train = None\n",
    "    y_train = []\n",
    "    X_test = None\n",
    "    y_test = []\n",
    "\n",
    "\n",
    "    #TRAIN SET\n",
    "    for sampler in data_samplers:\n",
    "        tmp_x = sampler.build_tensor(sample_size)\n",
    "        if X_train is not None:\n",
    "            X_train = np.concatenate((tmp_x, X_train))\n",
    "        else:\n",
    "            X_train = tmp_x\n",
    "            \n",
    "        y_train = y_train + [sampler.training_output for i in range(sample_size)]\n",
    "        \n",
    "    y_train = np.asarray(y_train)\n",
    "    X_train,y_train = shuffle_x_y_together(X_train,y_train)\n",
    "        \n",
    "    #TEST SET\n",
    "    for sampler in data_samplers:\n",
    "        tmp_x = sampler.build_tensor(int(sample_size * test_size))\n",
    "        if X_test is not None:\n",
    "            X_test = np.concatenate((tmp_x, X_test))\n",
    "        else:\n",
    "            X_test = tmp_x\n",
    "            \n",
    "        y_test = y_test + [sampler.training_output for i in range(int(sample_size * test_size))]\n",
    "        \n",
    "    y_test = np.asarray(y_train)\n",
    "    X_test,y_test = shuffle_x_y_together(X_test,y_test)\n",
    "    \n",
    "    return X_train, y_train, X_test, y_test\n",
    "    \n",
    "'''"
   ]
  },
  {
   "cell_type": "code",
   "execution_count": null,
   "metadata": {},
   "outputs": [],
   "source": [
    "def print_log(file_path,epoch):\n",
    "    f = open(file_path,'a')\n",
    "    f.write('Trained epoch: '+ epoch +'\\n') # python will convert \\n to os.linesep\n",
    "    f.close()\n",
    "\n",
    "# Log Training\n",
    "def train_log(file_path, epoch, accuracy):\n",
    "    f = open(file_path,'a')\n",
    "    f.write('Epoch '+str(epoch)+ ' loss/accuracy:'+ str(accuracy)+'\\n')\n",
    "    print('Epoch '+str(epoch)+ ' loss/accuracy:'+ str(accuracy)+'\\n')# python will convert \\n to os.linesep\n",
    "    f.close()"
   ]
  },
  {
   "cell_type": "code",
   "execution_count": null,
   "metadata": {},
   "outputs": [],
   "source": [
    "def train_network(model,\n",
    "                  data_sets,\n",
    "                  output_file, \n",
    "                  log_filepath,\n",
    "                  training_params,\n",
    "                  history,\n",
    "                  save_weights = True\n",
    "                  ):\n",
    "\n",
    "    test_loss = []\n",
    "    test_acc = []\n",
    "    \n",
    "    for i in range(training_params['nb_epochs']):\n",
    "        X_train,y_train,X_test,y_test = build_train_sets(data_samplers=fastm_samplers,\n",
    "                  sample_size = training_params['num_samples'])\n",
    "        print('epoch: ' + str(i))\n",
    "        \n",
    "\n",
    "       \n",
    "        model.fit(X_train, y_train, batch_size=training_params['batch_size'],\n",
    "                  epochs=1,\n",
    "                  verbose=0, shuffle=True, callbacks=[history])    # Manually save model\n",
    "        loss_and_metrics = model.evaluate(X_test, y_test, batch_size=training_params['batch_size'])\n",
    "        test_loss.append(loss_and_metrics[0])\n",
    "        test_acc.append(loss_and_metrics[1])\n",
    "        train_log(log_filepath,str(i),loss_and_metrics)\n",
    "\n",
    "        if save_weights and i%10 ==0:\n",
    "            print(\"Saving Model\")\n",
    "            model.save_weights(output_file,overwrite=True)\n"
   ]
  },
  {
   "cell_type": "code",
   "execution_count": null,
   "metadata": {},
   "outputs": [],
   "source": [
    "train_network(model=model, \n",
    "              data_sets=fastm_samplers,\n",
    "              output_file = \"/root/Notebooks/test/keras_files/hla_weights.h5\",\n",
    "              log_filepath= \"/root/Notebooks/test/keras_files/log_file.txt\",\n",
    "              training_params = training_params,\n",
    "              history=history\n",
    "             )"
   ]
  },
  {
   "cell_type": "code",
   "execution_count": null,
   "metadata": {},
   "outputs": [],
   "source": [
    "with open(\"/root/Notebooks/test/keras_files/hla_network_schema.json\", \"w\") as json_file:\n",
    "    json_file.write(model.to_json())\n",
    "\n"
   ]
  },
  {
   "cell_type": "code",
   "execution_count": null,
   "metadata": {},
   "outputs": [],
   "source": [
    "model.save_weights(\"/root/Notebooks/test/keras_files/hla_weights_200epoch.h5\",overwrite=True)"
   ]
  },
  {
   "cell_type": "code",
   "execution_count": null,
   "metadata": {},
   "outputs": [],
   "source": [
    "res_x = x[10001]\n",
    "res_y = y[10001]\n",
    "tmp_x, tmp_y = shuffle_x_y(x,y)\n",
    "for idx, arr in enumerate(tmp_x):\n",
    "    if (arr == res_x).all():\n",
    "        print (res_y, tmp_y[idx],idx)"
   ]
  },
  {
   "cell_type": "code",
   "execution_count": null,
   "metadata": {},
   "outputs": [],
   "source": [
    "a = np.concatenate([fastm_samplers[i].build_tensor(15) for i in range(len(fastm_samplers))])"
   ]
  },
  {
   "cell_type": "code",
   "execution_count": null,
   "metadata": {},
   "outputs": [],
   "source": [
    "len(fastm_samplers)"
   ]
  },
  {
   "cell_type": "code",
   "execution_count": null,
   "metadata": {},
   "outputs": [],
   "source": [
    "np.random.choice(100,3)"
   ]
  },
  {
   "cell_type": "code",
   "execution_count": null,
   "metadata": {},
   "outputs": [],
   "source": [
    "from random import uniform\n",
    "int(round(uniform(1,18), 0))"
   ]
  },
  {
   "cell_type": "code",
   "execution_count": null,
   "metadata": {},
   "outputs": [],
   "source": [
    "np.zeros(len(output_classes.keys()))"
   ]
  },
  {
   "cell_type": "code",
   "execution_count": null,
   "metadata": {},
   "outputs": [],
   "source": [
    "for k,v in output_classes.items():\n",
    "    print(k,v)"
   ]
  },
  {
   "cell_type": "code",
   "execution_count": null,
   "metadata": {},
   "outputs": [],
   "source": [
    "a = np.array([\n",
    "    [[0, 0, 0, 0, 0],\n",
    "    [ 27,  0,  0,  0, 0]], \n",
    "    \n",
    "    [[1, 1, 1, 1, 1],\n",
    "    [ 1,  18, 1 ,  1, 1]],\n",
    "    \n",
    "    [[2, 2, 2, 2, 2],\n",
    "    [ 2,  2,  22,  2, 2]], \n",
    "    \n",
    "    [[3, 3, 3, 3, 3],\n",
    "    [ 3,  3,  3,  33, 3]],\n",
    "    \n",
    "    [[4, 4, 4, 4, 4],\n",
    "    [ 4,  4,  4,  4, 44]], \n",
    "    \n",
    "    [[5, 5, 5, 5, 5],\n",
    "    [ 5,  1,  5,  5, 55]],\n",
    "])\n",
    "b = np.array([[0,0,0],\n",
    "              [1,0,0],\n",
    "              [0,2,0],\n",
    "              [0,3,0],\n",
    "              [0,0,4],\n",
    "              [0,0,5]])"
   ]
  },
  {
   "cell_type": "code",
   "execution_count": null,
   "metadata": {},
   "outputs": [],
   "source": [
    "a.shape"
   ]
  },
  {
   "cell_type": "code",
   "execution_count": null,
   "metadata": {},
   "outputs": [],
   "source": [
    "b.shape"
   ]
  },
  {
   "cell_type": "code",
   "execution_count": null,
   "metadata": {},
   "outputs": [],
   "source": [
    "s_a, s_b = shuffle_x_y(a,b)"
   ]
  },
  {
   "cell_type": "code",
   "execution_count": null,
   "metadata": {},
   "outputs": [],
   "source": [
    "s_a"
   ]
  },
  {
   "cell_type": "code",
   "execution_count": null,
   "metadata": {},
   "outputs": [],
   "source": [
    "s_b"
   ]
  },
  {
   "cell_type": "code",
   "execution_count": null,
   "metadata": {},
   "outputs": [],
   "source": [
    "a"
   ]
  },
  {
   "cell_type": "code",
   "execution_count": null,
   "metadata": {},
   "outputs": [],
   "source": [
    "t = np.array([[[  0.,   1.,   2.],\n",
    "                  [  3.,   4.,   5.]],\n",
    "\n",
    "                 [[  6.,   7.,   8.],\n",
    "                  [  9.,  10.,  11.]],\n",
    "\n",
    "                 [[ 12.,  13.,  14.],\n",
    "                  [ 15.,  16.,  17.]]])"
   ]
  },
  {
   "cell_type": "code",
   "execution_count": null,
   "metadata": {},
   "outputs": [],
   "source": [
    "t[[0,2,1],:,:]"
   ]
  },
  {
   "cell_type": "code",
   "execution_count": null,
   "metadata": {},
   "outputs": [],
   "source": [
    "np.asarray([train_negative.training_output for i in range(15)])"
   ]
  }
 ],
 "metadata": {
  "kernelspec": {
   "display_name": "Python 3",
   "language": "python",
   "name": "python3"
  },
  "language_info": {
   "codemirror_mode": {
    "name": "ipython",
    "version": 3
   },
   "file_extension": ".py",
   "mimetype": "text/x-python",
   "name": "python",
   "nbconvert_exporter": "python",
   "pygments_lexer": "ipython3",
   "version": "3.9.5"
  }
 },
 "nbformat": 4,
 "nbformat_minor": 4
}
