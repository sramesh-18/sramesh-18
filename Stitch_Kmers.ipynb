{
 "cells": [
  {
   "cell_type": "code",
   "execution_count": 51,
   "id": "a4fb0263-d0a0-431f-92f1-4831de2e1b4c",
   "metadata": {},
   "outputs": [
    {
     "name": "stdout",
     "output_type": "stream",
     "text": [
      "ABCDEFGHIJKLMNOPQRST\n"
     ]
    }
   ],
   "source": [
    "#Stitching the K-mers together\n",
    "#K-mer length = 10\n",
    "# read length is 30 ---> bound to change to 75-225?\n",
    "\n",
    "read_dictionary = []\n",
    "kmer_length = 5\n",
    "read_length = 10 #min_read_length\n",
    "new_input = ''\n",
    "\n",
    "def create_new_input(read_dictionary):\n",
    "    final_output = ''\n",
    "    i = 0\n",
    "    kmer_add = 0\n",
    "    for input in read_dictionary:\n",
    "        new_input = input[0:kmer_length]\n",
    "        if i + 1 == len(read_dictionary):\n",
    "            final_output = final_output + input\n",
    "        else:\n",
    "            final_output = final_output + str(new_input)\n",
    "        i = i + 1\n",
    "    print (final_output)\n",
    "\n",
    "read_dictionary = ['ABCDEFGHIJ','FGHIJKLMNO', 'KLMNOPQRST']\n",
    "\n",
    "create_new_input(read_dictionary)"
   ]
  },
  {
   "cell_type": "code",
   "execution_count": null,
   "id": "662a3e69-e94d-4d62-aea2-3ce56bcaf7ac",
   "metadata": {},
   "outputs": [],
   "source": []
  },
  {
   "cell_type": "code",
   "execution_count": null,
   "id": "557a8904-47c5-4d09-9bb9-0e0d3eb3b490",
   "metadata": {},
   "outputs": [],
   "source": []
  }
 ],
 "metadata": {
  "kernelspec": {
   "display_name": "Python 3",
   "language": "python",
   "name": "python3"
  },
  "language_info": {
   "codemirror_mode": {
    "name": "ipython",
    "version": 3
   },
   "file_extension": ".py",
   "mimetype": "text/x-python",
   "name": "python",
   "nbconvert_exporter": "python",
   "pygments_lexer": "ipython3",
   "version": "3.8.8"
  }
 },
 "nbformat": 4,
 "nbformat_minor": 5
}
