{
 "cells": [
  {
   "cell_type": "code",
   "execution_count": 1,
   "id": "549bd0c0-014e-4f69-8f91-4be19413957d",
   "metadata": {},
   "outputs": [
    {
     "name": "stdout",
     "output_type": "stream",
     "text": [
      "(5000, 400, 4)\n",
      "(5000, 5)\n"
     ]
    }
   ],
   "source": [
    "from RunMe import *"
   ]
  },
  {
   "cell_type": "code",
   "execution_count": 9,
   "id": "6da5ffd2-8999-43eb-97c4-7147216f1e06",
   "metadata": {},
   "outputs": [
    {
     "name": "stdout",
     "output_type": "stream",
     "text": [
      "[[1. 0. 0. 0. 0.]\n",
      " [0. 0. 1. 0. 0.]\n",
      " [0. 0. 0. 0. 1.]]\n"
     ]
    }
   ],
   "source": [
    "file = y_train[:3]\n",
    "print(file)"
   ]
  },
  {
   "cell_type": "code",
   "execution_count": 15,
   "id": "dcf23220-edda-41ab-839b-8e9123c68664",
   "metadata": {},
   "outputs": [
    {
     "name": "stdout",
     "output_type": "stream",
     "text": [
      "(5000,)\n",
      "(1000,)\n"
     ]
    }
   ],
   "source": [
    "y_train_correct = []\n",
    "y_test_correct = []\n",
    "\n",
    "for row in y_train: \n",
    "    i = 0\n",
    "    for index in row:\n",
    "        if index == 1:\n",
    "            y_train_correct.append(i)\n",
    "        else:\n",
    "            i = i+1\n",
    "y_train_correct = np.array(y_train_correct)\n",
    "print(y_train_correct.shape)\n",
    "\n",
    "\n",
    "for row in y_test: \n",
    "    i = 0\n",
    "    for index in row:\n",
    "        if index == 1:\n",
    "            y_test_correct.append(i)\n",
    "        else:\n",
    "            i = i+1\n",
    "y_test_correct = np.array(y_test_correct)\n",
    "print(y_test_correct.shape)"
   ]
  },
  {
   "cell_type": "code",
   "execution_count": null,
   "id": "f3e5d81c-22c2-4d5c-950d-32e93522f6f1",
   "metadata": {},
   "outputs": [],
   "source": []
  }
 ],
 "metadata": {
  "kernelspec": {
   "display_name": "Python 3",
   "language": "python",
   "name": "python3"
  },
  "language_info": {
   "codemirror_mode": {
    "name": "ipython",
    "version": 3
   },
   "file_extension": ".py",
   "mimetype": "text/x-python",
   "name": "python",
   "nbconvert_exporter": "python",
   "pygments_lexer": "ipython3",
   "version": "3.8.8"
  }
 },
 "nbformat": 4,
 "nbformat_minor": 5
}
