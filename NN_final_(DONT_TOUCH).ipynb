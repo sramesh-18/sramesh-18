{
 "cells": [
  {
   "cell_type": "code",
   "execution_count": 3,
   "metadata": {},
   "outputs": [
    {
     "name": "stdout",
     "output_type": "stream",
     "text": [
      "5\n",
      "5\n",
      "hla_a 0 [1. 0. 0. 0. 0.]\n",
      "hla_dp 1 [0. 1. 0. 0. 0.]\n",
      "hla_dq 2 [0. 0. 1. 0. 0.]\n",
      "hla_dr 3 [0. 0. 0. 1. 0.]\n",
      "non-hla 4 [0. 0. 0. 0. 1.]\n"
     ]
    }
   ],
   "source": [
    "from random import randint, getrandbits\n",
    "import itertools\n",
    "import datetime\n",
    "#import tensorflow.experimental.numpy as tnp\n",
    "import timeit\n",
    "import matplotlib.pyplot as plt\n",
    "import numpy as np\n",
    "import pandas as pd\n",
    "import sklearn\n",
    "#from Final_ShreyaNNtraining_Final_DONT_TOUCH import random_mutation, random_n_mutation, random_delete, random_insert, sample_from_transcripts\n",
    "from RunMe import *\n",
    "import tensorflow as tf\n",
    "from tensorflow.keras import layers, Sequential\n",
    "from tensorflow.keras.layers import Dense, Dropout, LSTM, GRU, Bidirectional, Activation, MaxPool1D, Conv1D\n",
    "from sklearn.model_selection import train_test_split\n",
    "from sklearn.preprocessing import LabelEncoder\n",
    "from sklearn.model_selection import GridSearchCV\n",
    "from sklearn.metrics import confusion_matrix\n",
    "from sklearn.metrics import classification_report\n",
    "\n",
    "%load_ext tensorboard"
   ]
  },
  {
   "cell_type": "markdown",
   "metadata": {},
   "source": [
    "## Input Parameters"
   ]
  },
  {
   "cell_type": "code",
   "execution_count": 4,
   "metadata": {},
   "outputs": [
    {
     "name": "stdout",
     "output_type": "stream",
     "text": [
      "5\n",
      "[0 0 0 0 0 0 0 0 0 0 0 0 0 0 0 0 0 0 0 0 0 0 0 0 0 0 0 0 0 0 0 0 0 0 0 0 0\n",
      " 0 0 0 0 0 0 0 0 0 0 0 0 0 0 0 0 0 0 0 0 0 0 0 0 0 0 0 0 0 0 0 0 0 0 0 0 0\n",
      " 0 0 0 0 0 0 0 0 0 0 0 0 0 0 0 0 0 0 0 0 0 0 0 0 0 0 0 0 0 0 0 0 0 0 0 0 0\n",
      " 0 0 0 0 0 0 0 0 0 0 0 0 0 0 0 0 0 0 0 0 0 0 0 0 0 0 0 0 0 0 0 0 0 0 0 0 0\n",
      " 0 0 0 0 0 0 0 0 0 0 0 0 0 0 0 0 0 0 0 0 0 0 0 0 0 0 0 0 0 0 0 0 0 0 0 0 0\n",
      " 0 0 0 0 0 0 0 0 0 0 0 0 0 0 0 0 0 0 0 0 0 0 0 0 0 0 0 0 0 0 0 0 0 0 0 0 0\n",
      " 0 0 0 0 0 0 0 0 0 0 0 0 0 0 0 0 0 0 0 0 0 0 0 0 0 0 0 0 0 0 0 0 0 0 0 0 0\n",
      " 0 0 0 0 0 0 0 0 0 0 0 0 0 0 0 0 0 0 0 0 0 0 0 0 0 0 0 0 0 0 0 0 0 0 0 0 0\n",
      " 0 0 0 0 0 0 0 0 0 0 0 0 0 0 0 0 0 0 0 0 0 0 0 0 0 0 0 0 0 0 0 0 0 0 0 0 0\n",
      " 0 0 0 0 0 0 0 0 0 0 0 0 0 0 0 0 0 0 0 0 0 0 0 0 0 0 0 0 0 0 0 0 0 0 0 0 0\n",
      " 0 0 0 0 0 0 0 0 0 0 0 0 0 0 0 0 0 0 0 0 0 0 0 0 0 0 0 0 0 0 0 0 0 0 0 0 0\n",
      " 0 0 0 0 0 0 0 0 0 0 0 0 0 0 0 0 0 0 0 0 0 0 0 0 0 0 0 0 0 0 0 0 0 0 0 0 0\n",
      " 0 0 0 0 0 0 0 0 0 0 0 0 0 0 0 0 0 0 0 0 0 0 0 0 0 0 0 0 0 0 0 0 0 0 0 0 0\n",
      " 0 0 0 0 0 0 0 0 0 0 0 0 0 0 0 0 0 0 0 0 0 0 0 0 0 0 0 0 0 0 0 0 0 0 0 0 0\n",
      " 0 0 0 0 0 0 0 0 0 0 0 0 0 0 0 0 0 0 0 0 0 0 0 0 0 0 0 0 0 0 0 0 0 0 0 0 0\n",
      " 0 0 0 0 0 0 0 0 0 0 0 0 0 0 0 0 0 0 0 0 0 0 0 0 0 0 0 0 0 0 0 0 0 0 0 0 0\n",
      " 0 0 0 0 0 0 0 0 0 0 0 0 0 0 0 0 0 0 0 0 0 0 0 0 0 0 0 0 0 0 0 0 0 0 0 0 0\n",
      " 0 0 0 0 0 0 0 0 0 0 0 0 0 0 0 0 0 0 0 0 0 0 0 0 0 0 0 0 0 0 0 0 0 0 0 0 0\n",
      " 0 0 0 0 0 0 0 0 0 0 0 0 0 0 0 0 0 0 0 0 0 0 0 0 0 0 0 0 0 0 0 0 0 0 0 0 0\n",
      " 0 0 0 0 0 0 0 0 0 0 0 0 0 0 0 0 0 0 0 0 0 0 0 0 0 0 0 0 0 0 0 0 0 0 0 0 0\n",
      " 0 0 0 0 0 0 0 0 0 0 0 0 0 0 0 0 0 0 0 0 0 0 0 0 0 0 0 0 0 0 0 0 0 0 0 0 0\n",
      " 0 0 0 0 0 0 0 0 0 0 0 0 0 0 0 0 0 0 0 0 0 0 0 0 0 0 0 0 0 0 0 0 0 0 0 0 0\n",
      " 0 0 0 0 0 0 0 0 0 0 0 0 0 0 0 0 0 0 0 0 0 0 0 0 0 0 0 0 0 0 0 0 0 0 0 0 0\n",
      " 0 0 0 0 0 0 0 0 0 0 0 0 0 0 0 0 0 0 0 0 0 0 0 0 0 0 0 0 0 0 0 0 0 0 0 0 0\n",
      " 0 0 0 0 0 0 0 0 0 0 0 0 0 0 0 0 0 0 0 0 0 0 0 0 0 0 0 0 0 0 0 0 0 0 0 0 0\n",
      " 0 0 0 0 0 0 0 0 0 0 0 0 0 0 0 0 0 0 0 0 0 0 0 0 0 0 0 0 0 0 0 0 0 0 0 0 0\n",
      " 0 0 0 0 0 0 0 0 0 0 0 0 0 0 0 0 0 0 0 0 0 0 0 0 0 0 0 0 0 0 0 0 0 0 0 0 0\n",
      " 0]\n"
     ]
    }
   ],
   "source": [
    "file_paths ={\n",
    "#ref_rna_path = {\n",
    "    #'hla_a'  :np.asarray([1,0,0,0,0,0,0,0,0]),\n",
    "    #'hla_b'  :np.asarray([0,1,0,0,0,0,0,0,0]),\n",
    "    #'hla_c'  :np.asarray([0,0,1,0,0,0,0,0,0]),\n",
    "    #'hla_dp' :np.asarray([0,0,0,1,0,0,0,0,0]),\n",
    "    #'hla_dq' :np.asarray([0,0,0,0,1,0,0,0,0]),\n",
    "    #'hla_dr' :np.asarray([0,0,0,0,0,1,0,0,0]),\n",
    "    #'hla_tap':np.asarray([0,0,0,0,0,0,1,0,0]),\n",
    "    #'hla_mica':np.asarray([0,0,0,0,0,0,0,1,0]),\n",
    "    #'hla_micb':np.asarray([0,0,0,0,0,0,0,0,1]),\n",
    "    #'hla_kir':np.asarray([0,0,0,0,0,0,0,0,1])\n",
    "    #*'hla_a':np.asarray([1,0,0,0,0]),\n",
    "    #*'hla_dp':np.asarray([0,1,0,0,0]),\n",
    "    #*'hla_dq':np.asarray([0,0,1,0,0]),\n",
    "    #*'hla_dr':([0,0,0,1,0]),\n",
    "    #'hla_dr_copy':np.asarray([0,0,0,0,1])\n",
    "    #*'non-hla': ([0,0,0,0,1])\n",
    "    #'neither': ([0,0,0,0,0,0])\n",
    "    #'sample': ([0,0,0,0,1])\n",
    "    'hla_a'  :0,\n",
    "    #'hla_b'  :1,\n",
    "    #'hla_c'  :2,\n",
    "    'hla_dp' :3,\n",
    "    'hla_dq' :4,\n",
    "    'hla_dr' :5,\n",
    "    #'hla_tap':6,\n",
    "    #'hla_mica':7,\n",
    "    #'hla_micb':8\n",
    "    'non-hla': 0\n",
    "}\n",
    "output_paths= {\n",
    "    'hla_a'  :\"/home/jovyan/data/Original/hla_a.fastm\",\n",
    "    #'hla_b'  :\"/home/jovyan/data/Original/hla_b.fastm\",\n",
    "    #'hla_c'  :\"/home/jovyan/data/Original/hla_c.fastm\",\n",
    "    'hla_dp' :\"/home/jovyan/data/Original/hla_dp.fastm\",\n",
    "    'hla_dq' :\"/home/jovyan/data/Original/hla_dq.fastm\",\n",
    "    'hla_dr' :\"/home/jovyan/data/Original/hla_dr.fastm\",\n",
    "    #'hla_tap':\"/home/jovyan/data/Original/hla_tap.fastm\",\n",
    "    #'hla_mica':\"/home/jovyan/data/Original/hla_mica.fastm\",\n",
    "    #'hla_micb':\"/home/jovyan/data/Original/hla_micb.fastm\"\n",
    "   # 'sample'  :\"data/Original/sample.fastm\"\n",
    "    'non-hla' :\"/home/jovyan/data/Sample/refMrna.fastm\"\n",
    "}\n",
    "\n",
    "training_params = {\n",
    "    'num_samples': 1000,\n",
    "    'batch_size': 100,\n",
    "    'nb_epochs' : 2000,\n",
    "    'learning_rate': 1e-4,\n",
    "    'n_prob_upper_limit':.06,\n",
    "    'mutation_prob_upper_limit':.02,\n",
    "    'delete_prob_upper_limit':.015,\n",
    "    'insert_prob_upper_limit':.015,\n",
    "    'min_read_length':75,\n",
    "    'b_randomize_location':True,\n",
    "    'b_randomize_direction':False\n",
    "}\n",
    "\n",
    "output_classes = {\n",
    "    'hla_a'  :0,\n",
    "    #'hla_b'  :1,\n",
    "    #'hla_c'  :2,\n",
    "    'hla_dp' :3,\n",
    "    'hla_dq' :4,\n",
    "    'hla_dr' :5,\n",
    "    #'hla_tap':6,\n",
    "    #'hla_mica':7,\n",
    "    #'hla_micb':8\n",
    "    'non-hla': 0\n",
    "}\n",
    "\n",
    "\n",
    "\n",
    "mp = {\n",
    "        'max_read_length':400,\n",
    "        'loss':'binary_crossentropy',\n",
    "        'optimizer':'rmsprop',\n",
    "        'metrics':['accuracy'],\n",
    "        'num_classes': len(output_classes.keys())\n",
    "    }\n",
    "\n",
    "output_number = len(output_classes)\n",
    "print(output_number) \n",
    "#print(X_test)\n",
    "print(y_test)\n",
    "\n"
   ]
  },
  {
   "cell_type": "markdown",
   "metadata": {},
   "source": [
    "## Data Processing (Fixing y-data)"
   ]
  },
  {
   "cell_type": "code",
   "execution_count": 5,
   "metadata": {},
   "outputs": [
    {
     "name": "stdout",
     "output_type": "stream",
     "text": [
      "(6000, 150, 4)\n",
      "int64\n",
      "int64\n",
      "int64\n",
      "int64\n"
     ]
    }
   ],
   "source": [
    "y_train_correct = []\n",
    "y_test_correct = []\n",
    "y_data_correct = []\n",
    "\n",
    "#x_data = np.load(\"/home/jovyan/data/Sample/tensor_arrays_5way.npy\")\n",
    "#y_data = np.load(\"/home/jovyan/data/Sample/tensor_class_5way.npy\")\n",
    "#y_train = np.array(y_train)\n",
    "#y_test = np.array(y_test)\n",
    "#X_test = np.array(X_test)\n",
    "#X_train = np.array(X_train)\n",
    "\n",
    "#For train_test_split usage:\n",
    "#x_data = np.concatenate((X_train,X_test),axis=0)\n",
    "#y_data = np.concatenate((y_train,y_test),axis=0)\n",
    "#print(y_data.dtype)\n",
    "#y_data = y_data.astype(int) \n",
    "\n",
    "#for row in y_data: \n",
    "#    i = 0\n",
    "#    for index in row:\n",
    "#        if index == 1:\n",
    "#            y_data_correct.append(i)\n",
    "#        else:\n",
    "#            i = i+1\n",
    "#y_data_correct = np.array(y_data_correct)\n",
    "print(x_data.shape)\n",
    "\n",
    "\n",
    "\n",
    "X_train, X_test, y_train, y_test = train_test_split(x_data, y_data, test_size=0.3)\n",
    "\n",
    "#y_train = y_train.astype(dtype = np.float32)\n",
    "#y_test = y_test.astype(dtype = np.float32)\n",
    "print(X_train.dtype)\n",
    "print(y_train.dtype)\n",
    "print(X_test.dtype)\n",
    "print(y_test.dtype)\n",
    "\n",
    "#np.save(\"data/Sample/X_train.npy\", X_train)\n",
    "#np.save(\"data/Sample/X_test.npy\", X_test)\n",
    "#np.save(\"data/Sample/y_train.npy\", y_train)\n",
    "#np.save(\"data/Sample/y_test.npy\", y_test)\n",
    "\n",
    "#df = pd.DataFrame(X_train[100])\n",
    "\n",
    "## save to xlsx file\n",
    "\n",
    "#filepath = 'data/Sample/X_train.xlsx'\n",
    "\n",
    "#df.to_excel(filepath, index=False)\n",
    "\n",
    "#np.save(\"data/Sample/X_test.npy\", X_test)\n",
    "#np.save(\"data/Sample/X_train.npy\", X_train)\n",
    "#np.save(\"data/Sample/y_test.npy\", y_test)\n",
    "#np.save(\"data/Sample/y_train.npy\", y_train)"
   ]
  },
  {
   "cell_type": "markdown",
   "metadata": {},
   "source": [
    "## Working NN"
   ]
  },
  {
   "cell_type": "code",
   "execution_count": 7,
   "metadata": {
    "tags": []
   },
   "outputs": [
    {
     "name": "stdout",
     "output_type": "stream",
     "text": [
      "Model: \"sequential_1\"\n",
      "_________________________________________________________________\n",
      "Layer (type)                 Output Shape              Param #   \n",
      "=================================================================\n",
      "conv1d_1 (Conv1D)            (None, 44, 320)           25920     \n",
      "_________________________________________________________________\n",
      "max_pooling1d_1 (MaxPooling1 (None, 14, 320)           0         \n",
      "_________________________________________________________________\n",
      "dropout_3 (Dropout)          (None, 14, 320)           0         \n",
      "_________________________________________________________________\n",
      "bidirectional_1 (Bidirection (None, 64)                90368     \n",
      "_________________________________________________________________\n",
      "dropout_4 (Dropout)          (None, 64)                0         \n",
      "_________________________________________________________________\n",
      "dense_2 (Dense)              (None, 4)                 260       \n",
      "_________________________________________________________________\n",
      "dropout_5 (Dropout)          (None, 4)                 0         \n",
      "_________________________________________________________________\n",
      "dense_3 (Dense)              (None, 5)                 25        \n",
      "=================================================================\n",
      "Total params: 116,573\n",
      "Trainable params: 116,573\n",
      "Non-trainable params: 0\n",
      "_________________________________________________________________\n",
      "Epoch 1/25\n",
      "525/525 [==============================] - 13s 24ms/step - loss: 1.5672 - accuracy: 0.2738 - val_loss: 1.3706 - val_accuracy: 0.4872\n",
      "Epoch 2/25\n",
      "525/525 [==============================] - 11s 21ms/step - loss: 1.4191 - accuracy: 0.3883 - val_loss: 1.2671 - val_accuracy: 0.4756\n",
      "Epoch 3/25\n",
      "525/525 [==============================] - 11s 21ms/step - loss: 1.3208 - accuracy: 0.4252 - val_loss: 1.1858 - val_accuracy: 0.4856\n",
      "Epoch 4/25\n",
      "525/525 [==============================] - 11s 21ms/step - loss: 1.2669 - accuracy: 0.4345 - val_loss: 1.0771 - val_accuracy: 0.5300\n",
      "Epoch 5/25\n",
      "525/525 [==============================] - 11s 21ms/step - loss: 1.1919 - accuracy: 0.4705 - val_loss: 0.9605 - val_accuracy: 0.6761\n",
      "Epoch 6/25\n",
      "525/525 [==============================] - 11s 21ms/step - loss: 1.1271 - accuracy: 0.5010 - val_loss: 0.8605 - val_accuracy: 0.7083\n",
      "Epoch 7/25\n",
      "525/525 [==============================] - 11s 21ms/step - loss: 1.0783 - accuracy: 0.5214 - val_loss: 0.8078 - val_accuracy: 0.7072\n",
      "Epoch 8/25\n",
      "525/525 [==============================] - 11s 21ms/step - loss: 1.0390 - accuracy: 0.5343 - val_loss: 0.7185 - val_accuracy: 0.7628\n",
      "Epoch 9/25\n",
      "525/525 [==============================] - 11s 20ms/step - loss: 0.9976 - accuracy: 0.5510 - val_loss: 0.6446 - val_accuracy: 0.7789\n",
      "Epoch 10/25\n",
      "525/525 [==============================] - 11s 22ms/step - loss: 0.9840 - accuracy: 0.5457 - val_loss: 0.6276 - val_accuracy: 0.7528\n",
      "Epoch 11/25\n",
      "525/525 [==============================] - 21s 40ms/step - loss: 0.9732 - accuracy: 0.5650 - val_loss: 0.5866 - val_accuracy: 0.7811\n",
      "Epoch 12/25\n",
      "525/525 [==============================] - 26s 49ms/step - loss: 0.9718 - accuracy: 0.5548 - val_loss: 0.5574 - val_accuracy: 0.7883\n",
      "Epoch 13/25\n",
      "525/525 [==============================] - 26s 49ms/step - loss: 0.9466 - accuracy: 0.5643 - val_loss: 0.6008 - val_accuracy: 0.7561\n",
      "Epoch 14/25\n",
      "525/525 [==============================] - 26s 49ms/step - loss: 0.9344 - accuracy: 0.5757 - val_loss: 0.5552 - val_accuracy: 0.7600\n",
      "Epoch 15/25\n",
      "525/525 [==============================] - 28s 53ms/step - loss: 0.9376 - accuracy: 0.5690 - val_loss: 0.5436 - val_accuracy: 0.7656\n",
      "Epoch 16/25\n",
      "525/525 [==============================] - 26s 49ms/step - loss: 0.9221 - accuracy: 0.5757 - val_loss: 0.5045 - val_accuracy: 0.8033\n",
      "Epoch 17/25\n",
      "525/525 [==============================] - 26s 50ms/step - loss: 0.9348 - accuracy: 0.5633 - val_loss: 0.4944 - val_accuracy: 0.8000\n",
      "Epoch 18/25\n",
      "525/525 [==============================] - 30s 58ms/step - loss: 0.9172 - accuracy: 0.5686 - val_loss: 0.4768 - val_accuracy: 0.8028\n",
      "Epoch 19/25\n",
      "525/525 [==============================] - 27s 52ms/step - loss: 0.9327 - accuracy: 0.5633 - val_loss: 0.4763 - val_accuracy: 0.7972\n",
      "Epoch 20/25\n",
      "525/525 [==============================] - 26s 49ms/step - loss: 0.8947 - accuracy: 0.5800 - val_loss: 0.4713 - val_accuracy: 0.8044\n",
      "Epoch 21/25\n",
      "525/525 [==============================] - 25s 48ms/step - loss: 0.9044 - accuracy: 0.5755 - val_loss: 0.4518 - val_accuracy: 0.8244\n",
      "Epoch 22/25\n",
      "525/525 [==============================] - 26s 49ms/step - loss: 0.8881 - accuracy: 0.5760 - val_loss: 0.4460 - val_accuracy: 0.8044\n",
      "Epoch 23/25\n",
      "525/525 [==============================] - 26s 49ms/step - loss: 0.9224 - accuracy: 0.5669 - val_loss: 0.4625 - val_accuracy: 0.8000\n",
      "Epoch 24/25\n",
      "525/525 [==============================] - 27s 51ms/step - loss: 0.8805 - accuracy: 0.5755 - val_loss: 0.4499 - val_accuracy: 0.8006\n",
      "Epoch 25/25\n",
      "525/525 [==============================] - 25s 48ms/step - loss: 0.8857 - accuracy: 0.5755 - val_loss: 0.4408 - val_accuracy: 0.8017\n",
      "57/57 [==============================] - 1s 21ms/step - loss: 0.4408 - accuracy: 0.8017\n",
      "Test Accuracy: 0.802\n"
     ]
    }
   ],
   "source": [
    "n_features = X_train.shape[1]\n",
    "\n",
    "model = tf.keras.Sequential()#[tf.keras.layers.Flatten(input_shape=(n_features, 4))]) \n",
    "\n",
    "model.add(tf.keras.layers.Conv1D(filters = 320, kernel_size = 20, \n",
    "                                strides=3, padding='valid', activation='relu', input_shape=(n_features,4)))\n",
    "\n",
    "model.add(layers.MaxPool1D(pool_size=3, strides=None))\n",
    "\n",
    "model.add(Dropout(0.5))\n",
    "\n",
    "model.add(tf.keras.layers.Bidirectional(tf.keras.layers.LSTM(32), merge_mode = 'concat'))# merge_mode='concat', weights=None, backward_layer=None))\n",
    "\n",
    "model.add(Dropout(0.5))\n",
    "\n",
    "model.add(Dense(4, activation='softmax', kernel_initializer='he_normal'))\n",
    "\n",
    "model.add(Dropout(0.5))\n",
    "\n",
    "#model.add(Dense(1, activation='softmax', kernel_initializer='he_normal'))\n",
    "model.add(Dense(5, activation='softmax', kernel_initializer='he_normal'))\n",
    "\n",
    "optimizer = tf.keras.optimizers.Adam(learning_rate = 0.001)\n",
    "\n",
    "#model.compile(optimizer=optimizer, loss='categorical_crossentropy', metrics=['accuracy'])\n",
    "\n",
    "model.compile(optimizer=optimizer, loss='SparseCategoricalCrossentropy', metrics=['accuracy'])\n",
    "#model.compile(optimizer=optimizer, loss='BinaryCrossentropy', metrics=['accuracy'])\n",
    "\n",
    "\n",
    "#model.build(input_shape=(n_features, 4))\n",
    "model.summary()\n",
    "\n",
    "model.fit(X_train, y_train, validation_data=(X_test, y_test), batch_size=8, epochs=25, verbose = 1, shuffle = True)\n",
    "\n",
    "\n",
    "loss, acc = model.evaluate(X_test, y_test, verbose=1)\n",
    "print('Test Accuracy: %.3f' % acc)"
   ]
  },
  {
   "cell_type": "code",
   "execution_count": null,
   "metadata": {},
   "outputs": [],
   "source": [
    "outputs = []\n",
    "for layer in model.layers:\n",
    "    keras_function = tf.keras.backend.function([model.input], [layer.output])\n",
    "    outputs.append(keras_function([X_train, 1]))\n",
    "print(outputs)\n",
    "\n",
    "#tf.argmax(input=n_features)"
   ]
  },
  {
   "cell_type": "code",
   "execution_count": null,
   "metadata": {},
   "outputs": [],
   "source": [
    "#Link: https://www.machinecurve.com/index.php/2020/02/21/how-to-predict-new-samples-with-your-keras-model/\n",
    "predictions = model.predict(X_test)\n",
    "\n",
    "#Getting the max probabilities for the predictions\n",
    "y_pred_classes = np.argmax(predictions, axis = 1)\n",
    "#print(y_pred_classes)\n",
    "\n",
    "result = tf.math.confusion_matrix(y_test,y_pred_classes)\n",
    "\n",
    " \n",
    "# Printing the result\n",
    "print('Confusion_matrix: ',result )\n",
    " \n",
    "\n",
    "#print('Confusion Matrix\\n')\n",
    "#print(confusion)\n",
    "\n",
    "classification_report(y_test_correct, y_pred_classes)\n",
    "print('\\nClassification Report\\n')\n",
    "print(classification_report(y_test, y_pred_classes, target_names=['non-hla', 'hla_a', 'hla_dp', 'hla_dq', 'hla_dr']))"
   ]
  },
  {
   "cell_type": "markdown",
   "metadata": {},
   "source": [
    "## Grid Search"
   ]
  },
  {
   "cell_type": "code",
   "execution_count": null,
   "metadata": {},
   "outputs": [],
   "source": [
    "## NN Parameters for tuning\n",
    "#alphas = np.array([0.2,0.1,0.01,0.05,0.001])\n",
    "#learningrateinit = np.array([0.2,0.1,0.01,0.001])\n",
    "#hiddenlayers = np.array([50,100,200,300])\n",
    "#maxiter = np.array([100,200,300])\n",
    "#solvers = ('adam','lbfgs') #('lbfgs', 'sgd', 'adam')\n",
    "#activations = ('relu') #,'logistic','tanh','identity')  # ('identity', 'logistic', 'tanh', 'relu')\n",
    "#param = dict( activation=activations, solver=solvers, alpha = alphas, hidden_layer_sizes = hiddenlayers, max_iter = maxiter, learning_rate_init = learningrateinit)\n",
    "\n",
    "\n",
    "#learningrateinit = np.array([0.1,0.01])\n",
    "#hiddenlayers = np.array([50,100,200])\n",
    "#param = dict(hidden_layer_sizes = hiddenlayers, learning_rate_init = learningrateinit)\n",
    "\n",
    "#grid = GridSearchCV(estimator=model, param_grid=param,\n",
    "#                    cv=5, verbose=10)\n",
    "#grid = GridSearchCV(model,param, cv=5)\n",
    "#grid.fit(X, y)\n"
   ]
  },
  {
   "cell_type": "markdown",
   "metadata": {},
   "source": [
    "## Original NN Code"
   ]
  },
  {
   "cell_type": "code",
   "execution_count": null,
   "metadata": {},
   "outputs": [],
   "source": [
    "'''\n",
    "num_classes = len(output_classes.keys())\n",
    "for train_class, idx in output_classes.items():\n",
    "    output_arr = np.zeros(num_classes)\n",
    "    output_arr[idx] = 1\n",
    "    train_sampler = FastmSampler(fastm_file_path=output_paths[train_class],\n",
    "                        n_prob_upper_limit=training_params['n_prob_upper_limit'],\n",
    "                        mutation_prob_upper_limit=training_params['mutation_prob_upper_limit'],\n",
    "                        delete_prob_upper_limit=training_params['delete_prob_upper_limit'],\n",
    "                        insert_prob_upper_limit=training_params['insert_prob_upper_limit'],\n",
    "                        min_read_length=training_params['min_read_length'],\n",
    "                        tensor_length=mp['max_fragment_length'],\n",
    "                        b_randomize_location=training_params['b_randomize_location'],\n",
    "                        b_randomize_direction=training_params['b_randomize_direction'],\n",
    "                        training_output=output_arr\n",
    "                       )\n",
    "    print(train_class,idx,output_arr)\n",
    "    fastm_samplers.append(train_sampler)\n",
    "'''"
   ]
  },
  {
   "cell_type": "code",
   "execution_count": null,
   "metadata": {},
   "outputs": [],
   "source": [
    "'''\n",
    "def shuffle_x_y_together(a, b):\n",
    "    \"\"\"\n",
    "    Shuffles 2 numpy arrays together at the 1st dimension. Keeps them together, such that (Xi,Yi) => (Xj,Xj)\n",
    "    :param a: Numpy Array\n",
    "    :param b: Numpy Array\n",
    "    :return: Shuffled A, Shuffled B\n",
    "    \"\"\"\n",
    "    a_s = a.shape[0]\n",
    "    b_s = b.shape[0]\n",
    "    assert a_s == b_s, \"Arrays must be of same size\"\n",
    "    i = np.argsort(np.random.permutation(a_s))\n",
    "    return a[i, :, :], b[i, :]\n",
    "\n",
    "shuffle_x_y_together(total_tensor_array, total_tensor_class)\n",
    "\n",
    "\n",
    "def build_train_sets(data_samplers,\n",
    "                    sample_size=1000,\n",
    "                     test_size=.2):\n",
    "    \"\"\"\n",
    "    Builds creates a train/test tensor for a round of training. \n",
    "    :param data_samplers: list sfseventools.FastmSampler\n",
    "    :param sample_size: Samples per tensor, default 1000\n",
    "    :param test_size: Test size as percentage of sample size. Default .2\n",
    "    :return: x_train, y_train, x_test, y_test\n",
    "    \"\"\"\n",
    "    length = len(data_samplers)\n",
    "    test_length = int(length * test_size)\n",
    "\n",
    "    x_train = np.concatenate([data_samplers[i].build_tensor(sample_size) \n",
    "                                                for i in range(length)])\n",
    "    y_train = np.concatenate([data_samplers[i].build_output_tensor(sample_size) for i in range(length)])\n",
    "    x_test = np.concatenate([data_samplers[i].build_tensor(sample_size) for i in range(test_length)])\n",
    "    y_test = np.concatenate([data_samplers[i].build_output_tensor(sample_size) for i in range(test_length)])\n",
    "\n",
    "\n",
    "    return x_train, y_train, x_test, y_test\n",
    "\n",
    "build_train_sets(total_tensor_array, 1000, 0.2)\n",
    "\n",
    "'''"
   ]
  },
  {
   "cell_type": "code",
   "execution_count": null,
   "metadata": {},
   "outputs": [],
   "source": [
    "def print_log(file_path,epoch):\n",
    "    f = open(file_path,'a')\n",
    "    f.write('Trained epoch: '+ epoch +'\\n') # python will convert \\n to os.linesep\n",
    "    f.close()\n",
    "\n",
    "# Log Training\n",
    "def train_log(file_path, epoch, accuracy):\n",
    "    f = open(file_path,'a')\n",
    "    f.write('Epoch '+str(epoch)+ ' loss/accuracy:'+ str(accuracy)+'\\n')\n",
    "    print('Epoch '+str(epoch)+ ' loss/accuracy:'+ str(accuracy)+'\\n')# python will convert \\n to os.linesep\n",
    "    f.close()"
   ]
  },
  {
   "cell_type": "code",
   "execution_count": null,
   "metadata": {},
   "outputs": [],
   "source": [
    "def train_network(model,\n",
    "                  data_sets,\n",
    "                  output_file, \n",
    "                  log_filepath,\n",
    "                  training_params,\n",
    "                  history,\n",
    "                  save_weights = True\n",
    "                  ):\n",
    "\n",
    "    test_loss = []\n",
    "    test_acc = []\n",
    "    \n",
    "    for i in range(training_params['nb_epochs']):\n",
    "        X_train,y_train,X_test,y_test = build_train_sets(data_samplers=fastm_samplers,\n",
    "                  sample_size = training_params['num_samples'])\n",
    "        print('epoch: ' + str(i))\n",
    "        \n",
    "\n",
    "       \n",
    "        model.fit(X_train, y_train, batch_size=training_params['batch_size'],\n",
    "                  epochs=1,\n",
    "                  verbose=0, shuffle=True, callbacks=[history])    # Manually save model\n",
    "        loss_and_metrics = model.evaluate(X_test, y_test, batch_size=training_params['batch_size'])\n",
    "        test_loss.append(loss_and_metrics[0])\n",
    "        test_acc.append(loss_and_metrics[1])\n",
    "        train_log(log_filepath,str(i),loss_and_metrics)\n",
    "\n",
    "        if save_weights and i%10 ==0:\n",
    "            print(\"Saving Model\")\n",
    "            model.save_weights(output_file,overwrite=True)\n"
   ]
  },
  {
   "cell_type": "code",
   "execution_count": null,
   "metadata": {},
   "outputs": [],
   "source": [
    "train_network(model=model, \n",
    "              data_sets=fastm_samplers,\n",
    "              output_file = \"/root/Notebooks/test/keras_files/hla_weights.h5\",\n",
    "              log_filepath= \"/root/Notebooks/test/keras_files/log_file.txt\",\n",
    "              training_params = training_params,\n",
    "              history=history\n",
    "             )"
   ]
  },
  {
   "cell_type": "code",
   "execution_count": null,
   "metadata": {},
   "outputs": [],
   "source": [
    "with open(\"/root/Notebooks/test/keras_files/hla_network_schema.json\", \"w\") as json_file:\n",
    "    json_file.write(model.to_json())\n",
    "\n"
   ]
  },
  {
   "cell_type": "code",
   "execution_count": null,
   "metadata": {},
   "outputs": [],
   "source": [
    "model.save_weights(\"/root/Notebooks/test/keras_files/hla_weights_200epoch.h5\",overwrite=True)"
   ]
  },
  {
   "cell_type": "code",
   "execution_count": null,
   "metadata": {},
   "outputs": [],
   "source": [
    "res_x = x[10001]\n",
    "res_y = y[10001]\n",
    "tmp_x, tmp_y = shuffle_x_y(x,y)\n",
    "for idx, arr in enumerate(tmp_x):\n",
    "    if (arr == res_x).all():\n",
    "        print (res_y, tmp_y[idx],idx)"
   ]
  },
  {
   "cell_type": "code",
   "execution_count": null,
   "metadata": {},
   "outputs": [],
   "source": [
    "a = np.concatenate([fastm_samplers[i].build_tensor(15) for i in range(len(fastm_samplers))])"
   ]
  },
  {
   "cell_type": "code",
   "execution_count": null,
   "metadata": {},
   "outputs": [],
   "source": [
    "len(fastm_samplers)"
   ]
  },
  {
   "cell_type": "code",
   "execution_count": null,
   "metadata": {},
   "outputs": [],
   "source": [
    "np.random.choice(100,3)"
   ]
  },
  {
   "cell_type": "code",
   "execution_count": null,
   "metadata": {},
   "outputs": [],
   "source": [
    "from random import uniform\n",
    "int(round(uniform(1,18), 0))"
   ]
  },
  {
   "cell_type": "code",
   "execution_count": null,
   "metadata": {},
   "outputs": [],
   "source": [
    "np.zeros(len(output_classes.keys()))"
   ]
  },
  {
   "cell_type": "code",
   "execution_count": null,
   "metadata": {},
   "outputs": [],
   "source": [
    "for k,v in output_classes.items():\n",
    "    print(k,v)"
   ]
  },
  {
   "cell_type": "code",
   "execution_count": null,
   "metadata": {},
   "outputs": [],
   "source": [
    "a = np.array([\n",
    "    [[0, 0, 0, 0, 0],\n",
    "    [ 27,  0,  0,  0, 0]], \n",
    "    \n",
    "    [[1, 1, 1, 1, 1],\n",
    "    [ 1,  18, 1 ,  1, 1]],\n",
    "    \n",
    "    [[2, 2, 2, 2, 2],\n",
    "    [ 2,  2,  22,  2, 2]], \n",
    "    \n",
    "    [[3, 3, 3, 3, 3],\n",
    "    [ 3,  3,  3,  33, 3]],\n",
    "    \n",
    "    [[4, 4, 4, 4, 4],\n",
    "    [ 4,  4,  4,  4, 44]], \n",
    "    \n",
    "    [[5, 5, 5, 5, 5],\n",
    "    [ 5,  1,  5,  5, 55]],\n",
    "])\n",
    "b = np.array([[0,0,0],\n",
    "              [1,0,0],\n",
    "              [0,2,0],\n",
    "              [0,3,0],\n",
    "              [0,0,4],\n",
    "              [0,0,5]])"
   ]
  },
  {
   "cell_type": "code",
   "execution_count": null,
   "metadata": {},
   "outputs": [],
   "source": [
    "a.shape"
   ]
  },
  {
   "cell_type": "code",
   "execution_count": null,
   "metadata": {},
   "outputs": [],
   "source": [
    "b.shape"
   ]
  },
  {
   "cell_type": "code",
   "execution_count": null,
   "metadata": {},
   "outputs": [],
   "source": [
    "s_a, s_b = shuffle_x_y(a,b)"
   ]
  },
  {
   "cell_type": "code",
   "execution_count": null,
   "metadata": {},
   "outputs": [],
   "source": [
    "s_a"
   ]
  },
  {
   "cell_type": "code",
   "execution_count": null,
   "metadata": {},
   "outputs": [],
   "source": [
    "s_b"
   ]
  },
  {
   "cell_type": "code",
   "execution_count": null,
   "metadata": {},
   "outputs": [],
   "source": [
    "a"
   ]
  },
  {
   "cell_type": "code",
   "execution_count": null,
   "metadata": {},
   "outputs": [],
   "source": [
    "t = np.array([[[  0.,   1.,   2.],\n",
    "                  [  3.,   4.,   5.]],\n",
    "\n",
    "                 [[  6.,   7.,   8.],\n",
    "                  [  9.,  10.,  11.]],\n",
    "\n",
    "                 [[ 12.,  13.,  14.],\n",
    "                  [ 15.,  16.,  17.]]])"
   ]
  },
  {
   "cell_type": "code",
   "execution_count": null,
   "metadata": {},
   "outputs": [],
   "source": [
    "t[[0,2,1],:,:]"
   ]
  },
  {
   "cell_type": "code",
   "execution_count": null,
   "metadata": {},
   "outputs": [],
   "source": [
    "np.asarray([train_negative.training_output for i in range(15)])"
   ]
  }
 ],
 "metadata": {
  "kernelspec": {
   "display_name": "Python 3",
   "language": "python",
   "name": "python3"
  },
  "language_info": {
   "codemirror_mode": {
    "name": "ipython",
    "version": 3
   },
   "file_extension": ".py",
   "mimetype": "text/x-python",
   "name": "python",
   "nbconvert_exporter": "python",
   "pygments_lexer": "ipython3",
   "version": "3.8.8"
  }
 },
 "nbformat": 4,
 "nbformat_minor": 4
}
