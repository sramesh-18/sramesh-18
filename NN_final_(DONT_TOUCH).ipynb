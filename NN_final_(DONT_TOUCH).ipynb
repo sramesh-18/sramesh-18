{
 "cells": [
  {
   "cell_type": "code",
   "execution_count": 5,
   "metadata": {},
   "outputs": [
    {
     "name": "stdout",
     "output_type": "stream",
     "text": [
      "The tensorboard extension is already loaded. To reload it, use:\n",
      "  %reload_ext tensorboard\n",
      "10\n"
     ]
    }
   ],
   "source": [
    "from random import randint, getrandbits\n",
    "import itertools\n",
    "import datetime\n",
    "#import tensorflow.experimental.numpy as tnp\n",
    "import timeit\n",
    "import matplotlib.pyplot as plt\n",
    "import numpy as np\n",
    "import pandas as pd\n",
    "import sklearn\n",
    "from RunMe import *\n",
    "import tensorflow as tf\n",
    "from tensorflow.keras import layers, Sequential\n",
    "from tensorflow.keras.layers import Dense, Dropout, LSTM, GRU, Bidirectional, Activation, MaxPool1D, Conv1D\n",
    "from sklearn.model_selection import train_test_split\n",
    "from sklearn.preprocessing import LabelEncoder\n",
    "from sklearn.model_selection import GridSearchCV\n",
    "from sklearn.metrics import confusion_matrix\n",
    "from sklearn.metrics import classification_report\n",
    "\n",
    "%load_ext tensorboard\n",
    "print(output_number)"
   ]
  },
  {
   "cell_type": "markdown",
   "metadata": {},
   "source": [
    "## Input Parameters"
   ]
  },
  {
   "cell_type": "code",
   "execution_count": 6,
   "metadata": {},
   "outputs": [
    {
     "name": "stdout",
     "output_type": "stream",
     "text": [
      "10\n"
     ]
    }
   ],
   "source": [
    "file_paths ={\n",
    "    'hla_a'  :0,\n",
    "    #'hla_b'  :1,\n",
    "    #'hla_c'  :2,\n",
    "    'hla_dp' :3,\n",
    "    'hla_dq' :4,\n",
    "    'hla_dr' :5,\n",
    "    #'hla_tap':6,\n",
    "    #'hla_mica':7,\n",
    "    #'hla_micb':8,\n",
    "    'non-hla': 9\n",
    "}\n",
    "output_paths= {\n",
    "    'hla_a'  :\"/home/jovyan/data/Original/hla_a.fastm\",\n",
    "    #'hla_b'  :\"/home/jovyan/data/Original/hla_b.fastm\",\n",
    "    #'hla_c'  :\"/home/jovyan/data/Original/hla_c.fastm\",\n",
    "    'hla_dp' :\"/home/jovyan/data/Original/hla_dp.fastm\",\n",
    "    'hla_dq' :\"/home/jovyan/data/Original/hla_dq.fastm\",\n",
    "    'hla_dr' :\"/home/jovyan/data/Original/hla_dr.fastm\",\n",
    "    #'hla_tap':\"/home/jovyan/data/Original/hla_tap.fastm\",\n",
    "    #'hla_mica':\"/home/jovyan/data/Original/hla_mica.fastm\",\n",
    "    #'hla_micb':\"/home/jovyan/data/Original/hla_micb.fastm\",\n",
    "    #'sample'  :\"data/Original/sample.fastm\"\n",
    "    'non-hla' :\"/home/jovyan/data/Sample/refMrna.fastm\"\n",
    "}\n",
    "\n",
    "training_params = {\n",
    "    'num_samples': 1000,\n",
    "    'batch_size': 100,\n",
    "    'nb_epochs' : 2000,\n",
    "    'learning_rate': 1e-4,\n",
    "    'n_prob_upper_limit':.06,\n",
    "    'mutation_prob_upper_limit':.02,\n",
    "    'delete_prob_upper_limit':.015,\n",
    "    'insert_prob_upper_limit':.015,\n",
    "    'min_read_length':75,\n",
    "    'b_randomize_location':True,\n",
    "    'b_randomize_direction':False\n",
    "}\n",
    "\n",
    "output_classes = {\n",
    "    'hla_a'  :0,\n",
    "    #'hla_b'  :1,\n",
    "    #'hla_c'  :2,\n",
    "    'hla_dp' :3,\n",
    "    'hla_dq' :4,\n",
    "    'hla_dr' :5,\n",
    "    #'hla_tap':6,\n",
    "    #'hla_mica':7,\n",
    "    #'hla_micb':8,\n",
    "    'non-hla': 9\n",
    "}\n",
    "\n",
    "\n",
    "mp = {\n",
    "        'max_read_length':150,\n",
    "        'loss':'binary_crossentropy',\n",
    "        'optimizer':'rmsprop',\n",
    "        'metrics':['accuracy'],\n",
    "        'num_classes': len(output_classes.keys())\n",
    "    }\n",
    "\n",
    "\n",
    "print(output_number) \n",
    "#print(X_test)"
   ]
  },
  {
   "cell_type": "markdown",
   "metadata": {},
   "source": [
    "## Data Processing"
   ]
  },
  {
   "cell_type": "code",
   "execution_count": 7,
   "metadata": {},
   "outputs": [
    {
     "name": "stdout",
     "output_type": "stream",
     "text": [
      "(12000, 150, 4)\n",
      "int64\n",
      "int64\n",
      "int64\n",
      "int64\n"
     ]
    }
   ],
   "source": [
    "y_train_correct = []\n",
    "y_test_correct = []\n",
    "y_data_correct = []\n",
    " \n",
    "\n",
    "#for row in y_data: \n",
    "#    i = 0\n",
    "#    for index in row:\n",
    "#        if index == 1:\n",
    "#            y_data_correct.append(i)\n",
    "#        else:\n",
    "#            i = i+1\n",
    "#y_data_correct = np.array(y_data_correct)\n",
    "print(x_data.shape)\n",
    "\n",
    "X_train, X_test, y_train, y_test = train_test_split(x_data, y_data, test_size=0.3)\n",
    "\n",
    "print(X_train.dtype)\n",
    "print(y_train.dtype)\n",
    "print(X_test.dtype)\n",
    "print(y_test.dtype)"
   ]
  },
  {
   "cell_type": "markdown",
   "metadata": {},
   "source": [
    "## Working NN"
   ]
  },
  {
   "cell_type": "code",
   "execution_count": 9,
   "metadata": {
    "tags": []
   },
   "outputs": [
    {
     "name": "stdout",
     "output_type": "stream",
     "text": [
      "Model: \"sequential_2\"\n",
      "_________________________________________________________________\n",
      "Layer (type)                 Output Shape              Param #   \n",
      "=================================================================\n",
      "conv1d_2 (Conv1D)            (None, 44, 320)           25920     \n",
      "_________________________________________________________________\n",
      "max_pooling1d_2 (MaxPooling1 (None, 14, 320)           0         \n",
      "_________________________________________________________________\n",
      "dropout_6 (Dropout)          (None, 14, 320)           0         \n",
      "_________________________________________________________________\n",
      "bidirectional_2 (Bidirection (None, 64)                90368     \n",
      "_________________________________________________________________\n",
      "dropout_7 (Dropout)          (None, 64)                0         \n",
      "_________________________________________________________________\n",
      "dense_4 (Dense)              (None, 4)                 260       \n",
      "_________________________________________________________________\n",
      "dropout_8 (Dropout)          (None, 4)                 0         \n",
      "_________________________________________________________________\n",
      "dense_5 (Dense)              (None, 10)                50        \n",
      "=================================================================\n",
      "Total params: 116,598\n",
      "Trainable params: 116,598\n",
      "Non-trainable params: 0\n",
      "_________________________________________________________________\n",
      "Epoch 1/50\n",
      "1050/1050 [==============================] - 21s 20ms/step - loss: 2.1751 - accuracy: 0.1670 - val_loss: 1.9652 - val_accuracy: 0.2464\n",
      "Epoch 2/50\n",
      "1050/1050 [==============================] - 20s 19ms/step - loss: 2.0003 - accuracy: 0.1898 - val_loss: 1.8169 - val_accuracy: 0.2461\n",
      "Epoch 3/50\n",
      "1050/1050 [==============================] - 20s 19ms/step - loss: 1.8793 - accuracy: 0.2354 - val_loss: 1.6397 - val_accuracy: 0.3258\n",
      "Epoch 4/50\n",
      "1050/1050 [==============================] - 21s 20ms/step - loss: 1.8110 - accuracy: 0.2360 - val_loss: 1.5487 - val_accuracy: 0.3339\n",
      "Epoch 5/50\n",
      "1050/1050 [==============================] - 20s 19ms/step - loss: 1.7719 - accuracy: 0.2692 - val_loss: 1.4910 - val_accuracy: 0.3658\n",
      "Epoch 6/50\n",
      "1050/1050 [==============================] - 28s 26ms/step - loss: 1.7500 - accuracy: 0.2752 - val_loss: 1.4627 - val_accuracy: 0.3378\n",
      "Epoch 7/50\n",
      "1050/1050 [==============================] - 44s 42ms/step - loss: 1.7325 - accuracy: 0.2769 - val_loss: 1.4206 - val_accuracy: 0.3564\n",
      "Epoch 8/50\n",
      "1050/1050 [==============================] - 44s 42ms/step - loss: 1.7259 - accuracy: 0.2815 - val_loss: 1.3920 - val_accuracy: 0.3908\n",
      "Epoch 9/50\n",
      "1050/1050 [==============================] - 45s 43ms/step - loss: 1.7155 - accuracy: 0.2817 - val_loss: 1.3769 - val_accuracy: 0.4061\n",
      "Epoch 10/50\n",
      "1050/1050 [==============================] - 45s 43ms/step - loss: 1.7108 - accuracy: 0.2779 - val_loss: 1.3557 - val_accuracy: 0.4306\n",
      "Epoch 11/50\n",
      "1050/1050 [==============================] - 45s 43ms/step - loss: 1.7096 - accuracy: 0.2862 - val_loss: 1.3409 - val_accuracy: 0.4864\n",
      "Epoch 12/50\n",
      "1050/1050 [==============================] - 46s 44ms/step - loss: 1.6960 - accuracy: 0.2889 - val_loss: 1.3300 - val_accuracy: 0.4475\n",
      "Epoch 13/50\n",
      "1050/1050 [==============================] - 45s 43ms/step - loss: 1.6868 - accuracy: 0.2868 - val_loss: 1.3180 - val_accuracy: 0.4611\n",
      "Epoch 14/50\n",
      "1050/1050 [==============================] - 45s 43ms/step - loss: 1.6797 - accuracy: 0.2940 - val_loss: 1.3024 - val_accuracy: 0.4772\n",
      "Epoch 15/50\n",
      "1050/1050 [==============================] - 45s 43ms/step - loss: 1.6810 - accuracy: 0.2923 - val_loss: 1.2984 - val_accuracy: 0.4919\n",
      "Epoch 16/50\n",
      "1050/1050 [==============================] - 45s 43ms/step - loss: 1.6741 - accuracy: 0.3042 - val_loss: 1.2802 - val_accuracy: 0.5003\n",
      "Epoch 17/50\n",
      "1050/1050 [==============================] - 45s 43ms/step - loss: 1.6730 - accuracy: 0.3042 - val_loss: 1.2822 - val_accuracy: 0.4986\n",
      "Epoch 18/50\n",
      "1050/1050 [==============================] - 44s 42ms/step - loss: 1.6605 - accuracy: 0.3158 - val_loss: 1.2711 - val_accuracy: 0.4986\n",
      "Epoch 19/50\n",
      "   1/1050 [..............................] - ETA: 0s - loss: 1.8995 - accuracy: 0.1250WARNING:tensorflow:Method (on_train_batch_end) is slow compared to the batch update (0.134948). Check your callbacks.\n",
      "1050/1050 [==============================] - 44s 42ms/step - loss: 1.6611 - accuracy: 0.3132 - val_loss: 1.2628 - val_accuracy: 0.4961\n",
      "Epoch 20/50\n",
      "1050/1050 [==============================] - 45s 42ms/step - loss: 1.6554 - accuracy: 0.3189 - val_loss: 1.2628 - val_accuracy: 0.4978\n",
      "Epoch 21/50\n",
      "1050/1050 [==============================] - 45s 42ms/step - loss: 1.6371 - accuracy: 0.3218 - val_loss: 1.2364 - val_accuracy: 0.5769\n",
      "Epoch 22/50\n",
      "1050/1050 [==============================] - 46s 43ms/step - loss: 1.6472 - accuracy: 0.3107 - val_loss: 1.2369 - val_accuracy: 0.5736\n",
      "Epoch 23/50\n",
      "1050/1050 [==============================] - 46s 44ms/step - loss: 1.6262 - accuracy: 0.3292 - val_loss: 1.2155 - val_accuracy: 0.5758\n",
      "Epoch 24/50\n",
      "1050/1050 [==============================] - 45s 43ms/step - loss: 1.6163 - accuracy: 0.3171 - val_loss: 1.2002 - val_accuracy: 0.5756\n",
      "Epoch 25/50\n",
      "1050/1050 [==============================] - 44s 42ms/step - loss: 1.6035 - accuracy: 0.3223 - val_loss: 1.1921 - val_accuracy: 0.5778\n",
      "Epoch 26/50\n",
      "1050/1050 [==============================] - 45s 43ms/step - loss: 1.6029 - accuracy: 0.3167 - val_loss: 1.1778 - val_accuracy: 0.5772\n",
      "Epoch 27/50\n",
      "1050/1050 [==============================] - 45s 43ms/step - loss: 1.5891 - accuracy: 0.3157 - val_loss: 1.1317 - val_accuracy: 0.5978\n",
      "Epoch 28/50\n",
      "1050/1050 [==============================] - 46s 43ms/step - loss: 1.5831 - accuracy: 0.3098 - val_loss: 1.1390 - val_accuracy: 0.5850\n",
      "Epoch 29/50\n",
      "1050/1050 [==============================] - 45s 43ms/step - loss: 1.5818 - accuracy: 0.3333 - val_loss: 1.1262 - val_accuracy: 0.6042\n",
      "Epoch 30/50\n",
      "1050/1050 [==============================] - 44s 42ms/step - loss: 1.5692 - accuracy: 0.3437 - val_loss: 1.1063 - val_accuracy: 0.6036\n",
      "Epoch 31/50\n",
      "1050/1050 [==============================] - 44s 42ms/step - loss: 1.5724 - accuracy: 0.3377 - val_loss: 1.0737 - val_accuracy: 0.6378\n",
      "Epoch 32/50\n",
      "1050/1050 [==============================] - 45s 42ms/step - loss: 1.5652 - accuracy: 0.3349 - val_loss: 1.0742 - val_accuracy: 0.6128\n",
      "Epoch 33/50\n",
      "1050/1050 [==============================] - 44s 42ms/step - loss: 1.5421 - accuracy: 0.3462 - val_loss: 1.0585 - val_accuracy: 0.6083\n",
      "Epoch 34/50\n",
      "1050/1050 [==============================] - 44s 42ms/step - loss: 1.5328 - accuracy: 0.3411 - val_loss: 1.0385 - val_accuracy: 0.6311\n",
      "Epoch 35/50\n",
      "1050/1050 [==============================] - 44s 42ms/step - loss: 1.5097 - accuracy: 0.3573 - val_loss: 1.0285 - val_accuracy: 0.6428\n",
      "Epoch 36/50\n",
      "1050/1050 [==============================] - 44s 42ms/step - loss: 1.5118 - accuracy: 0.3463 - val_loss: 1.0248 - val_accuracy: 0.6192\n",
      "Epoch 37/50\n",
      "1050/1050 [==============================] - 44s 42ms/step - loss: 1.5103 - accuracy: 0.3551 - val_loss: 1.0459 - val_accuracy: 0.6147\n",
      "Epoch 38/50\n",
      "1050/1050 [==============================] - 44s 42ms/step - loss: 1.5094 - accuracy: 0.3508 - val_loss: 1.0027 - val_accuracy: 0.6522\n",
      "Epoch 39/50\n",
      "1050/1050 [==============================] - 44s 42ms/step - loss: 1.4950 - accuracy: 0.3621 - val_loss: 0.9879 - val_accuracy: 0.6522\n",
      "Epoch 40/50\n",
      "1050/1050 [==============================] - 44s 42ms/step - loss: 1.4828 - accuracy: 0.3629 - val_loss: 0.9788 - val_accuracy: 0.6617\n",
      "Epoch 41/50\n",
      "1050/1050 [==============================] - 45s 43ms/step - loss: 1.4778 - accuracy: 0.3689 - val_loss: 0.9723 - val_accuracy: 0.6792\n",
      "Epoch 42/50\n",
      "1050/1050 [==============================] - 44s 42ms/step - loss: 1.4702 - accuracy: 0.3699 - val_loss: 0.9634 - val_accuracy: 0.6625\n",
      "Epoch 43/50\n",
      "1050/1050 [==============================] - 44s 42ms/step - loss: 1.4732 - accuracy: 0.3640 - val_loss: 0.9698 - val_accuracy: 0.6594\n",
      "Epoch 44/50\n",
      "1050/1050 [==============================] - 44s 42ms/step - loss: 1.4894 - accuracy: 0.3589 - val_loss: 0.9621 - val_accuracy: 0.6650\n",
      "Epoch 45/50\n",
      "1050/1050 [==============================] - 44s 42ms/step - loss: 1.4738 - accuracy: 0.3779 - val_loss: 0.9445 - val_accuracy: 0.6881\n",
      "Epoch 46/50\n",
      "1050/1050 [==============================] - 43s 41ms/step - loss: 1.4539 - accuracy: 0.3729 - val_loss: 0.9578 - val_accuracy: 0.6528\n",
      "Epoch 47/50\n",
      "   1/1050 [..............................] - ETA: 0s - loss: 0.9780 - accuracy: 0.6250WARNING:tensorflow:Method (on_train_batch_end) is slow compared to the batch update (0.129940). Check your callbacks.\n",
      "1050/1050 [==============================] - 44s 42ms/step - loss: 1.4720 - accuracy: 0.3627 - val_loss: 0.9420 - val_accuracy: 0.6725\n",
      "Epoch 48/50\n",
      "1050/1050 [==============================] - 43s 41ms/step - loss: 1.4570 - accuracy: 0.3739 - val_loss: 0.9401 - val_accuracy: 0.6603\n",
      "Epoch 49/50\n",
      "1050/1050 [==============================] - 44s 42ms/step - loss: 1.4781 - accuracy: 0.3635 - val_loss: 0.9393 - val_accuracy: 0.6675\n",
      "Epoch 50/50\n",
      "1050/1050 [==============================] - 44s 42ms/step - loss: 1.4669 - accuracy: 0.3683 - val_loss: 0.9290 - val_accuracy: 0.6861\n",
      "113/113 [==============================] - 2s 22ms/step - loss: 0.9290 - accuracy: 0.6861\n",
      "Test Accuracy: 0.686\n"
     ]
    }
   ],
   "source": [
    "n_features = X_train.shape[1]\n",
    "\n",
    "model = tf.keras.Sequential()#[tf.keras.layers.Flatten(input_shape=(n_features, 4))]) \n",
    "\n",
    "model.add(tf.keras.layers.Conv1D(filters = 320, kernel_size = 20, \n",
    "                                strides=3, padding='valid', activation='relu', input_shape=(n_features,4)))\n",
    "\n",
    "model.add(layers.MaxPool1D(pool_size=3, strides=None))\n",
    "\n",
    "model.add(Dropout(0.5))\n",
    "\n",
    "model.add(tf.keras.layers.Bidirectional(tf.keras.layers.LSTM(32), merge_mode = 'concat'))# merge_mode='concat', weights=None, backward_layer=None))\n",
    "\n",
    "model.add(Dropout(0.5))\n",
    "\n",
    "model.add(Dense(4, activation='softmax', kernel_initializer='he_normal'))\n",
    "\n",
    "model.add(Dropout(0.5))\n",
    "\n",
    "#model.add(Dense(1, activation='softmax', kernel_initializer='he_normal'))\n",
    "model.add(Dense(output_number, activation='softmax', kernel_initializer='he_normal'))\n",
    "\n",
    "optimizer = tf.keras.optimizers.Adam(learning_rate = 0.001)\n",
    "\n",
    "#model.compile(optimizer=optimizer, loss='categorical_crossentropy', metrics=['accuracy'])\n",
    "model.compile(optimizer=optimizer, loss='SparseCategoricalCrossentropy', metrics=['accuracy'])\n",
    "#model.compile(optimizer=optimizer, loss='BinaryCrossentropy', metrics=['accuracy'])\n",
    "\n",
    "model.summary()\n",
    "\n",
    "model.fit(X_train, y_train, validation_data=(X_test, y_test), batch_size=8, epochs=50, verbose = 1, shuffle = True)\n",
    "\n",
    "loss, acc = model.evaluate(X_test, y_test, verbose=1)\n",
    "print('Test Accuracy: %.3f' % acc)"
   ]
  },
  {
   "cell_type": "code",
   "execution_count": null,
   "metadata": {},
   "outputs": [],
   "source": [
    "outputs = []\n",
    "for layer in model.layers:\n",
    "    keras_function = tf.keras.backend.function([model.input], [layer.output])\n",
    "    outputs.append(keras_function([X_train, 1]))\n",
    "print(outputs)\n",
    "\n",
    "#tf.argmax(input=n_features)"
   ]
  },
  {
   "cell_type": "code",
   "execution_count": null,
   "metadata": {},
   "outputs": [],
   "source": [
    "#Link: https://www.machinecurve.com/index.php/2020/02/21/how-to-predict-new-samples-with-your-keras-model/\n",
    "predictions = model.predict(X_test)\n",
    "\n",
    "#Getting the max probabilities for the predictions\n",
    "y_pred_classes = np.argmax(predictions, axis = 1)\n",
    "#print(y_pred_classes)\n",
    "\n",
    "result = tf.math.confusion_matrix(y_test,y_pred_classes)\n",
    "\n",
    " \n",
    "# Printing the result\n",
    "print('Confusion_matrix: ',result )\n",
    " \n",
    "\n",
    "#print('Confusion Matrix\\n')\n",
    "#print(confusion)\n",
    "\n",
    "classification_report(y_test_correct, y_pred_classes)\n",
    "print('\\nClassification Report\\n')\n",
    "print(classification_report(y_test, y_pred_classes, target_names=['non-hla', 'hla_a', 'hla_dp', 'hla_dq', 'hla_dr']))"
   ]
  },
  {
   "cell_type": "markdown",
   "metadata": {},
   "source": [
    "## Grid Search"
   ]
  },
  {
   "cell_type": "code",
   "execution_count": null,
   "metadata": {},
   "outputs": [],
   "source": [
    "## NN Parameters for tuning\n",
    "#alphas = np.array([0.2,0.1,0.01,0.05,0.001])\n",
    "#learningrateinit = np.array([0.2,0.1,0.01,0.001])\n",
    "#hiddenlayers = np.array([50,100,200,300])\n",
    "#maxiter = np.array([100,200,300])\n",
    "#solvers = ('adam','lbfgs') #('lbfgs', 'sgd', 'adam')\n",
    "#activations = ('relu') #,'logistic','tanh','identity')  # ('identity', 'logistic', 'tanh', 'relu')\n",
    "#param = dict( activation=activations, solver=solvers, alpha = alphas, hidden_layer_sizes = hiddenlayers, max_iter = maxiter, learning_rate_init = learningrateinit)\n",
    "\n",
    "\n",
    "#learningrateinit = np.array([0.1,0.01])\n",
    "#hiddenlayers = np.array([50,100,200])\n",
    "#param = dict(hidden_layer_sizes = hiddenlayers, learning_rate_init = learningrateinit)\n",
    "\n",
    "#grid = GridSearchCV(estimator=model, param_grid=param,\n",
    "#                    cv=5, verbose=10)\n",
    "#grid = GridSearchCV(model,param, cv=5)\n",
    "#grid.fit(X, y)\n"
   ]
  },
  {
   "cell_type": "markdown",
   "metadata": {},
   "source": [
    "## Original NN Code"
   ]
  },
  {
   "cell_type": "code",
   "execution_count": null,
   "metadata": {},
   "outputs": [],
   "source": [
    "'''\n",
    "num_classes = len(output_classes.keys())\n",
    "for train_class, idx in output_classes.items():\n",
    "    output_arr = np.zeros(num_classes)\n",
    "    output_arr[idx] = 1\n",
    "    train_sampler = FastmSampler(fastm_file_path=output_paths[train_class],\n",
    "                        n_prob_upper_limit=training_params['n_prob_upper_limit'],\n",
    "                        mutation_prob_upper_limit=training_params['mutation_prob_upper_limit'],\n",
    "                        delete_prob_upper_limit=training_params['delete_prob_upper_limit'],\n",
    "                        insert_prob_upper_limit=training_params['insert_prob_upper_limit'],\n",
    "                        min_read_length=training_params['min_read_length'],\n",
    "                        tensor_length=mp['max_fragment_length'],\n",
    "                        b_randomize_location=training_params['b_randomize_location'],\n",
    "                        b_randomize_direction=training_params['b_randomize_direction'],\n",
    "                        training_output=output_arr\n",
    "                       )\n",
    "    print(train_class,idx,output_arr)\n",
    "    fastm_samplers.append(train_sampler)\n",
    "'''"
   ]
  },
  {
   "cell_type": "code",
   "execution_count": null,
   "metadata": {},
   "outputs": [],
   "source": [
    "'''\n",
    "def shuffle_x_y_together(a, b):\n",
    "    \"\"\"\n",
    "    Shuffles 2 numpy arrays together at the 1st dimension. Keeps them together, such that (Xi,Yi) => (Xj,Xj)\n",
    "    :param a: Numpy Array\n",
    "    :param b: Numpy Array\n",
    "    :return: Shuffled A, Shuffled B\n",
    "    \"\"\"\n",
    "    a_s = a.shape[0]\n",
    "    b_s = b.shape[0]\n",
    "    assert a_s == b_s, \"Arrays must be of same size\"\n",
    "    i = np.argsort(np.random.permutation(a_s))\n",
    "    return a[i, :, :], b[i, :]\n",
    "\n",
    "shuffle_x_y_together(total_tensor_array, total_tensor_class)\n",
    "\n",
    "\n",
    "def build_train_sets(data_samplers,\n",
    "                    sample_size=1000,\n",
    "                     test_size=.2):\n",
    "    \"\"\"\n",
    "    Builds creates a train/test tensor for a round of training. \n",
    "    :param data_samplers: list sfseventools.FastmSampler\n",
    "    :param sample_size: Samples per tensor, default 1000\n",
    "    :param test_size: Test size as percentage of sample size. Default .2\n",
    "    :return: x_train, y_train, x_test, y_test\n",
    "    \"\"\"\n",
    "    length = len(data_samplers)\n",
    "    test_length = int(length * test_size)\n",
    "\n",
    "    x_train = np.concatenate([data_samplers[i].build_tensor(sample_size) \n",
    "                                                for i in range(length)])\n",
    "    y_train = np.concatenate([data_samplers[i].build_output_tensor(sample_size) for i in range(length)])\n",
    "    x_test = np.concatenate([data_samplers[i].build_tensor(sample_size) for i in range(test_length)])\n",
    "    y_test = np.concatenate([data_samplers[i].build_output_tensor(sample_size) for i in range(test_length)])\n",
    "\n",
    "\n",
    "    return x_train, y_train, x_test, y_test\n",
    "\n",
    "build_train_sets(total_tensor_array, 1000, 0.2)\n",
    "\n",
    "'''"
   ]
  },
  {
   "cell_type": "code",
   "execution_count": null,
   "metadata": {},
   "outputs": [],
   "source": [
    "def print_log(file_path,epoch):\n",
    "    f = open(file_path,'a')\n",
    "    f.write('Trained epoch: '+ epoch +'\\n') # python will convert \\n to os.linesep\n",
    "    f.close()\n",
    "\n",
    "# Log Training\n",
    "def train_log(file_path, epoch, accuracy):\n",
    "    f = open(file_path,'a')\n",
    "    f.write('Epoch '+str(epoch)+ ' loss/accuracy:'+ str(accuracy)+'\\n')\n",
    "    print('Epoch '+str(epoch)+ ' loss/accuracy:'+ str(accuracy)+'\\n')# python will convert \\n to os.linesep\n",
    "    f.close()"
   ]
  },
  {
   "cell_type": "code",
   "execution_count": null,
   "metadata": {},
   "outputs": [],
   "source": [
    "def train_network(model,\n",
    "                  data_sets,\n",
    "                  output_file, \n",
    "                  log_filepath,\n",
    "                  training_params,\n",
    "                  history,\n",
    "                  save_weights = True\n",
    "                  ):\n",
    "\n",
    "    test_loss = []\n",
    "    test_acc = []\n",
    "    \n",
    "    for i in range(training_params['nb_epochs']):\n",
    "        X_train,y_train,X_test,y_test = build_train_sets(data_samplers=fastm_samplers,\n",
    "                  sample_size = training_params['num_samples'])\n",
    "        print('epoch: ' + str(i))\n",
    "        \n",
    "\n",
    "       \n",
    "        model.fit(X_train, y_train, batch_size=training_params['batch_size'],\n",
    "                  epochs=1,\n",
    "                  verbose=0, shuffle=True, callbacks=[history])    # Manually save model\n",
    "        loss_and_metrics = model.evaluate(X_test, y_test, batch_size=training_params['batch_size'])\n",
    "        test_loss.append(loss_and_metrics[0])\n",
    "        test_acc.append(loss_and_metrics[1])\n",
    "        train_log(log_filepath,str(i),loss_and_metrics)\n",
    "\n",
    "        if save_weights and i%10 ==0:\n",
    "            print(\"Saving Model\")\n",
    "            model.save_weights(output_file,overwrite=True)\n"
   ]
  },
  {
   "cell_type": "code",
   "execution_count": null,
   "metadata": {},
   "outputs": [],
   "source": [
    "train_network(model=model, \n",
    "              data_sets=fastm_samplers,\n",
    "              output_file = \"/root/Notebooks/test/keras_files/hla_weights.h5\",\n",
    "              log_filepath= \"/root/Notebooks/test/keras_files/log_file.txt\",\n",
    "              training_params = training_params,\n",
    "              history=history\n",
    "             )"
   ]
  },
  {
   "cell_type": "code",
   "execution_count": null,
   "metadata": {},
   "outputs": [],
   "source": [
    "with open(\"/root/Notebooks/test/keras_files/hla_network_schema.json\", \"w\") as json_file:\n",
    "    json_file.write(model.to_json())\n",
    "\n"
   ]
  },
  {
   "cell_type": "code",
   "execution_count": null,
   "metadata": {},
   "outputs": [],
   "source": [
    "model.save_weights(\"/root/Notebooks/test/keras_files/hla_weights_200epoch.h5\",overwrite=True)"
   ]
  },
  {
   "cell_type": "code",
   "execution_count": null,
   "metadata": {},
   "outputs": [],
   "source": [
    "res_x = x[10001]\n",
    "res_y = y[10001]\n",
    "tmp_x, tmp_y = shuffle_x_y(x,y)\n",
    "for idx, arr in enumerate(tmp_x):\n",
    "    if (arr == res_x).all():\n",
    "        print (res_y, tmp_y[idx],idx)"
   ]
  },
  {
   "cell_type": "code",
   "execution_count": null,
   "metadata": {},
   "outputs": [],
   "source": [
    "a = np.concatenate([fastm_samplers[i].build_tensor(15) for i in range(len(fastm_samplers))])"
   ]
  },
  {
   "cell_type": "code",
   "execution_count": null,
   "metadata": {},
   "outputs": [],
   "source": [
    "len(fastm_samplers)"
   ]
  },
  {
   "cell_type": "code",
   "execution_count": null,
   "metadata": {},
   "outputs": [],
   "source": [
    "np.random.choice(100,3)"
   ]
  },
  {
   "cell_type": "code",
   "execution_count": null,
   "metadata": {},
   "outputs": [],
   "source": [
    "from random import uniform\n",
    "int(round(uniform(1,18), 0))"
   ]
  },
  {
   "cell_type": "code",
   "execution_count": null,
   "metadata": {},
   "outputs": [],
   "source": [
    "np.zeros(len(output_classes.keys()))"
   ]
  },
  {
   "cell_type": "code",
   "execution_count": null,
   "metadata": {},
   "outputs": [],
   "source": [
    "for k,v in output_classes.items():\n",
    "    print(k,v)"
   ]
  },
  {
   "cell_type": "code",
   "execution_count": null,
   "metadata": {},
   "outputs": [],
   "source": [
    "a = np.array([\n",
    "    [[0, 0, 0, 0, 0],\n",
    "    [ 27,  0,  0,  0, 0]], \n",
    "    \n",
    "    [[1, 1, 1, 1, 1],\n",
    "    [ 1,  18, 1 ,  1, 1]],\n",
    "    \n",
    "    [[2, 2, 2, 2, 2],\n",
    "    [ 2,  2,  22,  2, 2]], \n",
    "    \n",
    "    [[3, 3, 3, 3, 3],\n",
    "    [ 3,  3,  3,  33, 3]],\n",
    "    \n",
    "    [[4, 4, 4, 4, 4],\n",
    "    [ 4,  4,  4,  4, 44]], \n",
    "    \n",
    "    [[5, 5, 5, 5, 5],\n",
    "    [ 5,  1,  5,  5, 55]],\n",
    "])\n",
    "b = np.array([[0,0,0],\n",
    "              [1,0,0],\n",
    "              [0,2,0],\n",
    "              [0,3,0],\n",
    "              [0,0,4],\n",
    "              [0,0,5]])"
   ]
  },
  {
   "cell_type": "code",
   "execution_count": null,
   "metadata": {},
   "outputs": [],
   "source": [
    "a.shape"
   ]
  },
  {
   "cell_type": "code",
   "execution_count": null,
   "metadata": {},
   "outputs": [],
   "source": [
    "b.shape"
   ]
  },
  {
   "cell_type": "code",
   "execution_count": null,
   "metadata": {},
   "outputs": [],
   "source": [
    "s_a, s_b = shuffle_x_y(a,b)"
   ]
  },
  {
   "cell_type": "code",
   "execution_count": null,
   "metadata": {},
   "outputs": [],
   "source": [
    "s_a"
   ]
  },
  {
   "cell_type": "code",
   "execution_count": null,
   "metadata": {},
   "outputs": [],
   "source": [
    "s_b"
   ]
  },
  {
   "cell_type": "code",
   "execution_count": null,
   "metadata": {},
   "outputs": [],
   "source": [
    "a"
   ]
  },
  {
   "cell_type": "code",
   "execution_count": null,
   "metadata": {},
   "outputs": [],
   "source": [
    "t = np.array([[[  0.,   1.,   2.],\n",
    "                  [  3.,   4.,   5.]],\n",
    "\n",
    "                 [[  6.,   7.,   8.],\n",
    "                  [  9.,  10.,  11.]],\n",
    "\n",
    "                 [[ 12.,  13.,  14.],\n",
    "                  [ 15.,  16.,  17.]]])"
   ]
  },
  {
   "cell_type": "code",
   "execution_count": null,
   "metadata": {},
   "outputs": [],
   "source": [
    "t[[0,2,1],:,:]"
   ]
  },
  {
   "cell_type": "code",
   "execution_count": null,
   "metadata": {},
   "outputs": [],
   "source": [
    "np.asarray([train_negative.training_output for i in range(15)])"
   ]
  }
 ],
 "metadata": {
  "kernelspec": {
   "display_name": "Python 3",
   "language": "python",
   "name": "python3"
  },
  "language_info": {
   "codemirror_mode": {
    "name": "ipython",
    "version": 3
   },
   "file_extension": ".py",
   "mimetype": "text/x-python",
   "name": "python",
   "nbconvert_exporter": "python",
   "pygments_lexer": "ipython3",
   "version": "3.8.8"
  }
 },
 "nbformat": 4,
 "nbformat_minor": 4
}
